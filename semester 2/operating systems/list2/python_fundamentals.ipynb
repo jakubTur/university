{
  "nbformat": 4,
  "nbformat_minor": 0,
  "metadata": {
    "colab": {
      "provenance": [],
      "authorship_tag": "ABX9TyPmAr/NoR1KubRIMiAnIcdd",
      "include_colab_link": true
    },
    "kernelspec": {
      "name": "python3",
      "display_name": "Python 3"
    },
    "language_info": {
      "name": "python"
    }
  },
  "cells": [
    {
      "cell_type": "markdown",
      "metadata": {
        "id": "view-in-github",
        "colab_type": "text"
      },
      "source": [
        "<a href=\"https://colab.research.google.com/gist/jdrapala/1d24a23d52e160617dd990750445a855/sadism_1_python_fundamentals.ipynb\" target=\"_parent\"><img src=\"https://colab.research.google.com/assets/colab-badge.svg\" alt=\"Open In Colab\"/></a>"
      ]
    },
    {
      "cell_type": "markdown",
      "source": [
        "## Short introduction to Python and some of its libraries that support scientific computing.\n",
        "\n",
        "I assume that you know the structural programming paradigm and do not start from scratch when learning basic elements of a new programming language. <br>\n",
        "This is not a standalone course of Python; you should only become familiar with some of Python language elements that are necessary to understand the course material. <br>\n",
        "\n",
        "Jupyter notebooks allow us **to combine source codes, descriptions of methods, and algorithms, and their outcomes, into a single coherent document**. It is one of the most common tools used by data scientists. <br>\n",
        "Feel free **to experiment with the code** snippets presented.\n",
        "\n",
        "\n"
      ],
      "metadata": {
        "id": "zIrWNLZlneKD"
      }
    },
    {
      "cell_type": "markdown",
      "source": [
        "Every Jupyter cell is a separate editor for your code that may be executed on demand. <br>\n",
        "All cells belonging to a Jupyter notebook share memory and namespace. It has pros and cons.\n"
      ],
      "metadata": {
        "id": "-r8kLicZoRqh"
      }
    },
    {
      "cell_type": "markdown",
      "source": [
        "**Remember** to use this notebook in an interactive manner. <br>\n",
        "You learn by experimentation. The description alone does not give you a real understanding of the material."
      ],
      "metadata": {
        "id": "Fxz9Wh_lI6hB"
      }
    },
    {
      "cell_type": "markdown",
      "source": [
        "### Native Python data structures introduced here:\n",
        "* **list**,\n",
        "* tuple,\n",
        "* **dictionary**,\n",
        "* set."
      ],
      "metadata": {
        "id": "qaWgSgBKmyZJ"
      }
    },
    {
      "cell_type": "markdown",
      "source": [
        "**List** <br>\n",
        "It is the ordered sequence of objects of different types."
      ],
      "metadata": {
        "id": "xtcD_N7onTEh"
      }
    },
    {
      "cell_type": "markdown",
      "source": [
        "Polish letters are put here to irritate you. This should inspire you to replace my examples with your own data.\n"
      ],
      "metadata": {
        "id": "ktV_i8XZE1Wg"
      }
    },
    {
      "cell_type": "code",
      "execution_count": null,
      "metadata": {
        "colab": {
          "base_uri": "https://localhost:8080/"
        },
        "id": "MXXYWH5njd_k",
        "outputId": "54a12699-2f31-4805-d645-f296887c140a"
      },
      "outputs": [
        {
          "output_type": "stream",
          "name": "stdout",
          "text": [
            "['Opole', 'Cyców']\n"
          ]
        }
      ],
      "source": [
        "cities_list = ['Wrocław', 'Opole', 'Cyców', 'Moszna']\n",
        "area_list = [292.8, 149, 147.9, 7.29]\n",
        "population_lista = [643782, 128140, 1200, 350]\n",
        "\n",
        "print(cities_list[1:3])"
      ]
    },
    {
      "cell_type": "code",
      "source": [
        "cities_list.count('Wrocław')"
      ],
      "metadata": {
        "colab": {
          "base_uri": "https://localhost:8080/"
        },
        "id": "HwQRbs-jm1P4",
        "outputId": "e7eac09f-b0a6-4f4d-8a7c-014682aa0cf8"
      },
      "execution_count": null,
      "outputs": [
        {
          "output_type": "execute_result",
          "data": {
            "text/plain": [
              "1"
            ]
          },
          "metadata": {},
          "execution_count": 2
        }
      ]
    },
    {
      "cell_type": "code",
      "source": [
        "'Opole' in cities_list"
      ],
      "metadata": {
        "colab": {
          "base_uri": "https://localhost:8080/"
        },
        "id": "vYU9CqYHwPuV",
        "outputId": "645bb4d1-8c72-40fa-ef3d-c94bc1e2a952"
      },
      "execution_count": null,
      "outputs": [
        {
          "output_type": "execute_result",
          "data": {
            "text/plain": [
              "True"
            ]
          },
          "metadata": {},
          "execution_count": 4
        }
      ]
    },
    {
      "cell_type": "code",
      "source": [
        "cities_list + cities_list"
      ],
      "metadata": {
        "colab": {
          "base_uri": "https://localhost:8080/"
        },
        "id": "PWWc0OqTwRSd",
        "outputId": "d7931197-e0fa-48f9-910f-4bcc6780f44d"
      },
      "execution_count": null,
      "outputs": [
        {
          "output_type": "execute_result",
          "data": {
            "text/plain": [
              "['Wrocław', 'Opole', 'Cyców', 'Moszna', 'Wrocław', 'Opole', 'Cyców', 'Moszna']"
            ]
          },
          "metadata": {},
          "execution_count": 5
        }
      ]
    },
    {
      "cell_type": "markdown",
      "source": [
        "This code pretends to be written in Python, but in fact it is more like Java:"
      ],
      "metadata": {
        "id": "RE1pg-RczgOW"
      }
    },
    {
      "cell_type": "code",
      "source": [
        "for i in range(len(cities_list)):\n",
        "  print(cities_list[i].upper())"
      ],
      "metadata": {
        "colab": {
          "base_uri": "https://localhost:8080/"
        },
        "id": "ILtEtSmFzkEQ",
        "outputId": "9d87051e-c9ec-4433-d227-e8ab6e982526"
      },
      "execution_count": null,
      "outputs": [
        {
          "output_type": "stream",
          "name": "stdout",
          "text": [
            "WROCŁAW\n",
            "OPOLE\n",
            "CYCÓW\n",
            "MOSZNA\n"
          ]
        }
      ]
    },
    {
      "cell_type": "markdown",
      "source": [
        "This one is more Pythonic."
      ],
      "metadata": {
        "id": "XDaSQbNjz-q_"
      }
    },
    {
      "cell_type": "code",
      "source": [
        "for elem in cities_list:\n",
        "  print(elem.upper())"
      ],
      "metadata": {
        "colab": {
          "base_uri": "https://localhost:8080/"
        },
        "id": "JKFPRroF1Xtt",
        "outputId": "3063a807-c1a1-43ae-fb37-4fa39f67de96"
      },
      "execution_count": null,
      "outputs": [
        {
          "output_type": "stream",
          "name": "stdout",
          "text": [
            "WROCŁAW\n",
            "OPOLE\n",
            "CYCÓW\n",
            "MOSZNA\n"
          ]
        }
      ]
    },
    {
      "cell_type": "markdown",
      "source": [
        "There is absolutely no need to use *list comprehension*, but it is so commonly used by many programmers that you should be able to read and understand it."
      ],
      "metadata": {
        "id": "IYwqmJmZ1fzw"
      }
    },
    {
      "cell_type": "code",
      "source": [
        "compreh_list = [elem.upper() for elem in cities_list]\n",
        "print(compreh_list)"
      ],
      "metadata": {
        "colab": {
          "base_uri": "https://localhost:8080/"
        },
        "id": "9mJxSfqF1rUm",
        "outputId": "3c3c039d-ce15-4781-febc-1c6e3d11765a"
      },
      "execution_count": null,
      "outputs": [
        {
          "output_type": "stream",
          "name": "stdout",
          "text": [
            "['WROCŁAW', 'OPOLE', 'CYCÓW', 'MOSZNA']\n"
          ]
        }
      ]
    },
    {
      "cell_type": "code",
      "source": [
        "compreh_list = [elem.upper() for elem in cities_list if elem.endswith('w')]\n",
        "print(compreh_list)"
      ],
      "metadata": {
        "colab": {
          "base_uri": "https://localhost:8080/"
        },
        "id": "eLEsi5642AFZ",
        "outputId": "4dc95552-7ae8-4f6b-86f1-b53a783cebca"
      },
      "execution_count": null,
      "outputs": [
        {
          "output_type": "stream",
          "name": "stdout",
          "text": [
            "['WROCŁAW', 'CYCÓW']\n"
          ]
        }
      ]
    },
    {
      "cell_type": "code",
      "source": [
        "empty_lista = []"
      ],
      "metadata": {
        "id": "fTtNztzcB1n0"
      },
      "execution_count": null,
      "outputs": []
    },
    {
      "cell_type": "markdown",
      "source": [
        "Remember to perform your own experiments with lists. <br>\n",
        "Check out how sharing memory and namespace between cells works.\n"
      ],
      "metadata": {
        "id": "TFLrEgs-x_Ps"
      }
    },
    {
      "cell_type": "markdown",
      "source": [
        "**Tuple** <br>\n",
        "You may think of tuples as non-mutable lists."
      ],
      "metadata": {
        "id": "a_EaNH7YzZ0W"
      }
    },
    {
      "cell_type": "code",
      "source": [
        "dims = (90, 60, 90)"
      ],
      "metadata": {
        "id": "E6vH2T-iw5Dp"
      },
      "execution_count": null,
      "outputs": []
    },
    {
      "cell_type": "code",
      "source": [
        "dims[0] = 40"
      ],
      "metadata": {
        "colab": {
          "base_uri": "https://localhost:8080/",
          "height": 174
        },
        "id": "PQkhJXVN2s57",
        "outputId": "98ba6bf7-5992-4fe8-df30-79e49fa95633"
      },
      "execution_count": null,
      "outputs": [
        {
          "output_type": "error",
          "ename": "TypeError",
          "evalue": "ignored",
          "traceback": [
            "\u001b[0;31m---------------------------------------------------------------------------\u001b[0m",
            "\u001b[0;31mTypeError\u001b[0m                                 Traceback (most recent call last)",
            "\u001b[0;32m<ipython-input-12-b40adfe13ba4>\u001b[0m in \u001b[0;36m<module>\u001b[0;34m()\u001b[0m\n\u001b[0;32m----> 1\u001b[0;31m \u001b[0mdims\u001b[0m\u001b[0;34m[\u001b[0m\u001b[0;36m0\u001b[0m\u001b[0;34m]\u001b[0m \u001b[0;34m=\u001b[0m \u001b[0;36m40\u001b[0m\u001b[0;34m\u001b[0m\u001b[0;34m\u001b[0m\u001b[0m\n\u001b[0m",
            "\u001b[0;31mTypeError\u001b[0m: 'tuple' object does not support item assignment"
          ]
        }
      ]
    },
    {
      "cell_type": "markdown",
      "source": [
        "Although tuple entries cannot be changed, you can do that:"
      ],
      "metadata": {
        "id": "3uj2M8vY6Mio"
      }
    },
    {
      "cell_type": "code",
      "source": [
        "dims = (1024, 768)"
      ],
      "metadata": {
        "id": "rs85bek22v71"
      },
      "execution_count": null,
      "outputs": []
    },
    {
      "cell_type": "markdown",
      "source": [
        "**Takeways**:<br>\n",
        "1.   Python performs **dynamic typing**.\n",
        "2.   The name in Python is implemented as a `void*` pointer in the C language. By calling this name, you refer to an associated object. Memory management is not your job; Python does it for you. If you need detail control of memory, this means that Python is not appropriate choice at all.\n",
        "\n"
      ],
      "metadata": {
        "id": "zJc1GVLg6bPk"
      }
    },
    {
      "cell_type": "markdown",
      "source": [
        "What creates a tuple is really a comma, not a bracket `()`."
      ],
      "metadata": {
        "id": "jhOtUO8d7LlY"
      }
    },
    {
      "cell_type": "code",
      "source": [
        "user = 'Bożydar', 180, 92"
      ],
      "metadata": {
        "id": "9Q2pK53O6aJg"
      },
      "execution_count": null,
      "outputs": []
    },
    {
      "cell_type": "code",
      "source": [
        "user[2] = 88"
      ],
      "metadata": {
        "colab": {
          "base_uri": "https://localhost:8080/",
          "height": 174
        },
        "id": "5rXcN-h-7l9J",
        "outputId": "473a6884-50c2-4579-dfba-cca416ae89fd"
      },
      "execution_count": null,
      "outputs": [
        {
          "output_type": "error",
          "ename": "TypeError",
          "evalue": "ignored",
          "traceback": [
            "\u001b[0;31m---------------------------------------------------------------------------\u001b[0m",
            "\u001b[0;31mTypeError\u001b[0m                                 Traceback (most recent call last)",
            "\u001b[0;32m<ipython-input-16-a123e65780c6>\u001b[0m in \u001b[0;36m<module>\u001b[0;34m()\u001b[0m\n\u001b[0;32m----> 1\u001b[0;31m \u001b[0muser\u001b[0m\u001b[0;34m[\u001b[0m\u001b[0;36m2\u001b[0m\u001b[0;34m]\u001b[0m \u001b[0;34m=\u001b[0m \u001b[0;36m88\u001b[0m\u001b[0;34m\u001b[0m\u001b[0;34m\u001b[0m\u001b[0m\n\u001b[0m",
            "\u001b[0;31mTypeError\u001b[0m: 'tuple' object does not support item assignment"
          ]
        }
      ]
    },
    {
      "cell_type": "code",
      "source": [
        "width, height = 1024, 768"
      ],
      "metadata": {
        "id": "_9vTGBXq763D"
      },
      "execution_count": null,
      "outputs": []
    },
    {
      "cell_type": "code",
      "source": [
        "height, width = width, height\n",
        "print(f'Width: {width}\\nHeight: {height}')"
      ],
      "metadata": {
        "colab": {
          "base_uri": "https://localhost:8080/"
        },
        "id": "blMp3PgiBnLF",
        "outputId": "2f04c8c7-fa45-40de-c639-6617129e3c44"
      },
      "execution_count": null,
      "outputs": [
        {
          "output_type": "stream",
          "name": "stdout",
          "text": [
            "Width: 768\n",
            "Height: 1024\n"
          ]
        }
      ]
    },
    {
      "cell_type": "markdown",
      "source": [
        "Tuple unpacking"
      ],
      "metadata": {
        "id": "dc9kf_p7OSNw"
      }
    },
    {
      "cell_type": "code",
      "source": [
        "color = 122, 16, 196\n",
        "r, g, b = color\n",
        "print(f'r = {r}, g = {g}, b = {b}')"
      ],
      "metadata": {
        "colab": {
          "base_uri": "https://localhost:8080/"
        },
        "id": "I4tnKfe8OUhp",
        "outputId": "aca1fb0c-64ce-4772-ea58-21b54dd1b75d"
      },
      "execution_count": null,
      "outputs": [
        {
          "output_type": "stream",
          "name": "stdout",
          "text": [
            "r = 122, g = 16, b = 196\n"
          ]
        }
      ]
    },
    {
      "cell_type": "markdown",
      "source": [
        "**Dictionary** <br>\n",
        "It is an unordered collection of <font color='blue'>key</font>-<font color='green'>value</font> pairs."
      ],
      "metadata": {
        "id": "-jEtvZBaCBau"
      }
    },
    {
      "cell_type": "code",
      "source": [
        "population_dict = {'Wrocław': 643782,\n",
        "                   'Opole': 128140,\n",
        "                   'Cyców': 1200,\n",
        "                   'Moszna': 350,\n",
        "                   'Browarek': 48,\n",
        "                   'Złe Mięso': 195,\n",
        "                   'Radom': 210532,\n",
        "                   'Paryż': 134,\n",
        "                   'Paryż': 2148000,\n",
        "                   'Biłgoraj': 27106,\n",
        "                   }\n",
        "\n",
        "area_dict = {'Wrocław': 292.8,\n",
        "             'Opole': 149,\n",
        "             'Cyców': 147.9,\n",
        "             'Moszna': 7.29,\n",
        "             'Browarek': 2.81,\n",
        "             'Złe Mięso': 4.38,\n",
        "             'Radom': 111.8,\n",
        "             'Paryż': 9.13,\n",
        "             'Paryż': 105.4,\n",
        "             'Biłgoraj': 21.1,\n",
        "             }"
      ],
      "metadata": {
        "id": "69CIgp98Bn8v"
      },
      "execution_count": null,
      "outputs": []
    },
    {
      "cell_type": "code",
      "source": [
        "population_dict['Paryż']"
      ],
      "metadata": {
        "colab": {
          "base_uri": "https://localhost:8080/"
        },
        "id": "Dj5clqvRL1JN",
        "outputId": "0ef891f2-c2e3-4e07-b54f-38ca1bffefce"
      },
      "execution_count": null,
      "outputs": [
        {
          "output_type": "execute_result",
          "data": {
            "text/plain": [
              "2148000"
            ]
          },
          "metadata": {},
          "execution_count": 23
        }
      ]
    },
    {
      "cell_type": "code",
      "source": [
        "population_dict.keys()"
      ],
      "metadata": {
        "colab": {
          "base_uri": "https://localhost:8080/"
        },
        "id": "8_tr4WLDL2R5",
        "outputId": "833aa31d-2bbe-4162-ba62-923631a8aa6c"
      },
      "execution_count": null,
      "outputs": [
        {
          "output_type": "execute_result",
          "data": {
            "text/plain": [
              "dict_keys(['Wrocław', 'Opole', 'Cyców', 'Moszna', 'Browarek', 'Złe Mięso', 'Radom', 'Paryż', 'Biłgoraj'])"
            ]
          },
          "metadata": {},
          "execution_count": 24
        }
      ]
    },
    {
      "cell_type": "code",
      "source": [
        "population_dict.values()"
      ],
      "metadata": {
        "colab": {
          "base_uri": "https://localhost:8080/"
        },
        "id": "QsJ92rN9N9h4",
        "outputId": "c7589c2e-2ccb-4f62-8186-e486aea28068"
      },
      "execution_count": null,
      "outputs": [
        {
          "output_type": "execute_result",
          "data": {
            "text/plain": [
              "dict_values([643782, 128140, 1200, 350, 48, 195, 210532, 2148000, 27106])"
            ]
          },
          "metadata": {},
          "execution_count": 25
        }
      ]
    },
    {
      "cell_type": "code",
      "source": [
        "population_dict.items()"
      ],
      "metadata": {
        "colab": {
          "base_uri": "https://localhost:8080/"
        },
        "id": "Lmki9Wb2ODJ1",
        "outputId": "d6db633d-dab9-4f86-a9ed-180c44bbe95b"
      },
      "execution_count": null,
      "outputs": [
        {
          "output_type": "execute_result",
          "data": {
            "text/plain": [
              "dict_items([('Wrocław', 643782), ('Opole', 128140), ('Cyców', 1200), ('Moszna', 350), ('Browarek', 48), ('Złe Mięso', 195), ('Radom', 210532), ('Paryż', 2148000), ('Biłgoraj', 27106)])"
            ]
          },
          "metadata": {},
          "execution_count": 26
        }
      ]
    },
    {
      "cell_type": "markdown",
      "source": [
        "Iterating over dictionaries:"
      ],
      "metadata": {
        "id": "DooacriFOGoE"
      }
    },
    {
      "cell_type": "code",
      "source": [
        "for key, value in population_dict.items():\n",
        "  print(f'City: {key} | population: {value}')"
      ],
      "metadata": {
        "colab": {
          "base_uri": "https://localhost:8080/"
        },
        "id": "wcvhVin9OE4o",
        "outputId": "cb4b2f16-b094-410a-da41-964ac1250285"
      },
      "execution_count": null,
      "outputs": [
        {
          "output_type": "stream",
          "name": "stdout",
          "text": [
            "City: Wrocław | population: 643782\n",
            "City: Opole | population: 128140\n",
            "City: Cyców | population: 1200\n",
            "City: Moszna | population: 350\n",
            "City: Browarek | population: 48\n",
            "City: Złe Mięso | population: 195\n",
            "City: Radom | population: 210532\n",
            "City: Paryż | population: 2148000\n",
            "City: Biłgoraj | population: 27106\n"
          ]
        }
      ]
    },
    {
      "cell_type": "code",
      "source": [
        "'Radom' in population_dict"
      ],
      "metadata": {
        "colab": {
          "base_uri": "https://localhost:8080/"
        },
        "id": "bJEXGSVXOweC",
        "outputId": "a348c3e3-7015-40fc-bc76-a346f215e891"
      },
      "execution_count": null,
      "outputs": [
        {
          "output_type": "execute_result",
          "data": {
            "text/plain": [
              "True"
            ]
          },
          "metadata": {},
          "execution_count": 28
        }
      ]
    },
    {
      "cell_type": "code",
      "source": [
        "empty_dictionary = {}\n",
        "empty_dictionary = dict()"
      ],
      "metadata": {
        "id": "cqBOJm5eB9DQ"
      },
      "execution_count": null,
      "outputs": []
    },
    {
      "cell_type": "markdown",
      "source": [
        "The **set** is like a dictionary made up only of keys. <br>\n",
        "Below we have one of the most common use cases of set."
      ],
      "metadata": {
        "id": "WIZhbLmyJpLL"
      }
    },
    {
      "cell_type": "code",
      "source": [
        "commiters_ordered = ['Bolek', 'ADU', 'ADU', 'Manny', 'Bolek', 'Manny', 'Bolek', 'ADU']\n",
        "commiters_unique = set(commiters_ordered)\n",
        "print(commiters_unique)"
      ],
      "metadata": {
        "colab": {
          "base_uri": "https://localhost:8080/"
        },
        "id": "TDl3E-vdJ_7n",
        "outputId": "e63f5f0c-770e-42be-ee13-1536c295450a"
      },
      "execution_count": null,
      "outputs": [
        {
          "output_type": "stream",
          "name": "stdout",
          "text": [
            "{'Manny', 'Bolek', 'ADU'}\n"
          ]
        }
      ]
    },
    {
      "cell_type": "code",
      "source": [
        "empty_set = set()"
      ],
      "metadata": {
        "id": "7ltyIjiCLiTb"
      },
      "execution_count": null,
      "outputs": []
    },
    {
      "cell_type": "markdown",
      "source": [
        "### Python libraries introduce their own data structures.:\n",
        "* array ```Numpy```,\n",
        "* series  ```Pandas```,\n",
        "* data frame ```Pandas```."
      ],
      "metadata": {
        "id": "q6_LsIvEPUiz"
      }
    },
    {
      "cell_type": "markdown",
      "source": [
        "**Array** <br>\n",
        "It is a sequence of elements of the same type (not necessarily numbers). <br>\n",
        "Library ```Numpy``` provides fundamental methods for scientific computing."
      ],
      "metadata": {
        "id": "ktKnWohxQG2G"
      }
    },
    {
      "cell_type": "code",
      "source": [
        "import numpy as np"
      ],
      "metadata": {
        "id": "Fn54jxx_PIGd"
      },
      "execution_count": null,
      "outputs": []
    },
    {
      "cell_type": "code",
      "source": [
        "tab = np.array([1, 1, 2, 3, 5, 8, 13])"
      ],
      "metadata": {
        "id": "mgGIzKC8Qcbg"
      },
      "execution_count": null,
      "outputs": []
    },
    {
      "cell_type": "code",
      "source": [
        "tab + tab"
      ],
      "metadata": {
        "colab": {
          "base_uri": "https://localhost:8080/"
        },
        "id": "NL7D3NRARbpd",
        "outputId": "0ea87596-ca71-4d37-a5f1-7c52d3e90452"
      },
      "execution_count": null,
      "outputs": [
        {
          "output_type": "execute_result",
          "data": {
            "text/plain": [
              "array([ 2,  2,  4,  6, 10, 16, 26])"
            ]
          },
          "metadata": {},
          "execution_count": 34
        }
      ]
    },
    {
      "cell_type": "code",
      "source": [
        "area_arr = np.array(list(area_dict.values()))\n",
        "print(list(area_dict.values()))\n",
        "print(area_arr)"
      ],
      "metadata": {
        "colab": {
          "base_uri": "https://localhost:8080/"
        },
        "id": "cMcIGLreRehN",
        "outputId": "23ce757e-3574-46e8-d124-53b0251b522a"
      },
      "execution_count": null,
      "outputs": [
        {
          "output_type": "stream",
          "name": "stdout",
          "text": [
            "[292.8, 149, 147.9, 7.29, 2.81, 4.38, 111.8, 105.4, 21.1]\n",
            "[292.8  149.   147.9    7.29   2.81   4.38 111.8  105.4   21.1 ]\n"
          ]
        }
      ]
    },
    {
      "cell_type": "code",
      "source": [
        "data_stand = (area_arr - area_arr.mean()) / area_arr.std()\n",
        "data_stand = np.round(data_stand,2)\n",
        "print(data_stand)"
      ],
      "metadata": {
        "colab": {
          "base_uri": "https://localhost:8080/"
        },
        "id": "N7rxFslNSifc",
        "outputId": "b6ef91b2-6a4f-471b-e23b-e40b7047cc30"
      },
      "execution_count": null,
      "outputs": [
        {
          "output_type": "stream",
          "name": "stdout",
          "text": [
            "[ 2.18  0.61  0.59 -0.95 -0.99 -0.98  0.2   0.13 -0.79]\n"
          ]
        }
      ]
    },
    {
      "cell_type": "code",
      "source": [
        "tab[-1]"
      ],
      "metadata": {
        "colab": {
          "base_uri": "https://localhost:8080/"
        },
        "id": "KZo0PXTATvUw",
        "outputId": "7a0813b5-e222-451d-a15e-72d9ead5a7d1"
      },
      "execution_count": null,
      "outputs": [
        {
          "output_type": "execute_result",
          "data": {
            "text/plain": [
              "13"
            ]
          },
          "metadata": {},
          "execution_count": 38
        }
      ]
    },
    {
      "cell_type": "markdown",
      "source": [
        "**Slices**"
      ],
      "metadata": {
        "id": "yo_9kvixTRJj"
      }
    },
    {
      "cell_type": "code",
      "source": [
        "tab = data_stand.copy()\n",
        "print(tab)"
      ],
      "metadata": {
        "colab": {
          "base_uri": "https://localhost:8080/"
        },
        "id": "r29ZDCuvSnr9",
        "outputId": "cfee178d-e007-4694-ed6b-55964c77cca9"
      },
      "execution_count": null,
      "outputs": [
        {
          "output_type": "stream",
          "name": "stdout",
          "text": [
            "[ 2.18  0.61  0.59 -0.95 -0.99 -0.98  0.2   0.13 -0.79]\n"
          ]
        }
      ]
    },
    {
      "cell_type": "code",
      "source": [
        "tab[1:6:2]"
      ],
      "metadata": {
        "colab": {
          "base_uri": "https://localhost:8080/"
        },
        "id": "DsFFqCqHTb9Q",
        "outputId": "8478725b-9fea-449c-8824-46382d4d3237"
      },
      "execution_count": null,
      "outputs": [
        {
          "output_type": "execute_result",
          "data": {
            "text/plain": [
              "array([ 0.61, -0.95, -0.98])"
            ]
          },
          "metadata": {},
          "execution_count": 40
        }
      ]
    },
    {
      "cell_type": "code",
      "source": [
        "tab[:3]"
      ],
      "metadata": {
        "colab": {
          "base_uri": "https://localhost:8080/"
        },
        "id": "OrelLndITuHN",
        "outputId": "92567663-df8e-4fc7-f651-041f710654de"
      },
      "execution_count": null,
      "outputs": [
        {
          "output_type": "execute_result",
          "data": {
            "text/plain": [
              "array([2.18, 0.61, 0.59])"
            ]
          },
          "metadata": {},
          "execution_count": 41
        }
      ]
    },
    {
      "cell_type": "code",
      "source": [
        "tab[5:]"
      ],
      "metadata": {
        "colab": {
          "base_uri": "https://localhost:8080/"
        },
        "id": "DjRV2Hn4UJlY",
        "outputId": "2f5c430d-6517-4730-dd03-e86bb24b4cbb"
      },
      "execution_count": null,
      "outputs": [
        {
          "output_type": "execute_result",
          "data": {
            "text/plain": [
              "array([-0.98,  0.2 ,  0.13, -0.79])"
            ]
          },
          "metadata": {},
          "execution_count": 42
        }
      ]
    },
    {
      "cell_type": "code",
      "source": [
        "tab[5:2:-1]"
      ],
      "metadata": {
        "colab": {
          "base_uri": "https://localhost:8080/"
        },
        "id": "QlQk3EaYUK6K",
        "outputId": "cd54b75a-8898-4dc4-934d-1a192ede078a"
      },
      "execution_count": null,
      "outputs": [
        {
          "output_type": "execute_result",
          "data": {
            "text/plain": [
              "array([-0.98, -0.99, -0.95])"
            ]
          },
          "metadata": {},
          "execution_count": 43
        }
      ]
    },
    {
      "cell_type": "code",
      "source": [
        "tab[::-1]"
      ],
      "metadata": {
        "colab": {
          "base_uri": "https://localhost:8080/"
        },
        "id": "sXtv8ygBURk1",
        "outputId": "93a1b5c6-3e6c-4d51-f176-18d6ce298491"
      },
      "execution_count": null,
      "outputs": [
        {
          "output_type": "execute_result",
          "data": {
            "text/plain": [
              "array([-0.79,  0.13,  0.2 , -0.98, -0.99, -0.95,  0.59,  0.61,  2.18])"
            ]
          },
          "metadata": {},
          "execution_count": 44
        }
      ]
    },
    {
      "cell_type": "code",
      "source": [
        "list(tab)"
      ],
      "metadata": {
        "colab": {
          "base_uri": "https://localhost:8080/"
        },
        "id": "Rl18qvcYV99z",
        "outputId": "f5641ef2-24d6-47e5-bf7d-92d5fb92bd0f"
      },
      "execution_count": null,
      "outputs": [
        {
          "output_type": "execute_result",
          "data": {
            "text/plain": [
              "[2.18, 0.61, 0.59, -0.95, -0.99, -0.98, 0.2, 0.13, -0.79]"
            ]
          },
          "metadata": {},
          "execution_count": 45
        }
      ]
    },
    {
      "cell_type": "markdown",
      "source": [
        "Filtering or *fancy indexing*."
      ],
      "metadata": {
        "id": "z5xOMuDWx_vI"
      }
    },
    {
      "cell_type": "code",
      "source": [
        "tab > 0"
      ],
      "metadata": {
        "colab": {
          "base_uri": "https://localhost:8080/"
        },
        "id": "j6lf8cZix_Ca",
        "outputId": "ea143e3d-c3b7-4c65-adfe-8a5d7f669fad"
      },
      "execution_count": null,
      "outputs": [
        {
          "output_type": "execute_result",
          "data": {
            "text/plain": [
              "array([ True,  True,  True, False, False, False,  True,  True, False])"
            ]
          },
          "metadata": {},
          "execution_count": 47
        }
      ]
    },
    {
      "cell_type": "code",
      "source": [
        "tab[tab > 0]"
      ],
      "metadata": {
        "colab": {
          "base_uri": "https://localhost:8080/"
        },
        "id": "RQVkhxoZyFS-",
        "outputId": "f2cdaa27-f88d-4856-99c4-a79031ac2574"
      },
      "execution_count": null,
      "outputs": [
        {
          "output_type": "execute_result",
          "data": {
            "text/plain": [
              "array([2.18, 0.61, 0.59, 0.2 , 0.13])"
            ]
          },
          "metadata": {},
          "execution_count": 48
        }
      ]
    },
    {
      "cell_type": "markdown",
      "source": [
        "**Series** <br>\n",
        "`Pandas` library <br>\n",
        "There are two useful ways you can think about series:\n",
        "\n",
        "*   an ordered dictionary,\n",
        "*   an array with customized index.\n"
      ],
      "metadata": {
        "id": "Kq7E2__sWHc3"
      }
    },
    {
      "cell_type": "code",
      "source": [
        "import pandas as pd"
      ],
      "metadata": {
        "id": "fbgBxXhuWB84"
      },
      "execution_count": null,
      "outputs": []
    },
    {
      "cell_type": "code",
      "source": [
        "series = pd.Series([1, 2, 3, 4], index=['a', 'b', 'c', 'd'])\n",
        "print(series)"
      ],
      "metadata": {
        "colab": {
          "base_uri": "https://localhost:8080/"
        },
        "id": "YqsitV9YdOsD",
        "outputId": "091c7628-ee72-4b57-82ab-63cd3e031c52"
      },
      "execution_count": null,
      "outputs": [
        {
          "output_type": "stream",
          "name": "stdout",
          "text": [
            "a    1\n",
            "b    2\n",
            "c    3\n",
            "d    4\n",
            "dtype: int64\n"
          ]
        }
      ]
    },
    {
      "cell_type": "code",
      "source": [
        "series['b':'d']"
      ],
      "metadata": {
        "colab": {
          "base_uri": "https://localhost:8080/"
        },
        "id": "e1UddwiQdQzm",
        "outputId": "77bbb8e0-4415-479b-9bb3-b17f7fbe9e85"
      },
      "execution_count": null,
      "outputs": [
        {
          "output_type": "execute_result",
          "data": {
            "text/plain": [
              "b    2\n",
              "c    3\n",
              "d    4\n",
              "dtype: int64"
            ]
          },
          "metadata": {},
          "execution_count": 51
        }
      ]
    },
    {
      "cell_type": "code",
      "source": [
        "joke = pd.Series([1, 2, 3, 4], index=[4, 3, 2, 1])\n",
        "joke"
      ],
      "metadata": {
        "colab": {
          "base_uri": "https://localhost:8080/"
        },
        "id": "ciAv5Q9fdToC",
        "outputId": "8c533eed-1285-42d7-c4ea-9767e3db6a00"
      },
      "execution_count": null,
      "outputs": [
        {
          "output_type": "execute_result",
          "data": {
            "text/plain": [
              "4    1\n",
              "3    2\n",
              "2    3\n",
              "1    4\n",
              "dtype: int64"
            ]
          },
          "metadata": {},
          "execution_count": 52
        }
      ]
    },
    {
      "cell_type": "markdown",
      "source": [
        "How to reference explicitly to defined and default indices?"
      ],
      "metadata": {
        "id": "qAQgHZh3dfFq"
      }
    },
    {
      "cell_type": "code",
      "source": [
        "print(joke[3])\n",
        "print(joke.loc[3])\n",
        "print(joke.iloc[3])"
      ],
      "metadata": {
        "colab": {
          "base_uri": "https://localhost:8080/"
        },
        "id": "_5W7sz42da-2",
        "outputId": "85f6289a-5852-43ab-83b6-5fd6f275b27b"
      },
      "execution_count": null,
      "outputs": [
        {
          "output_type": "stream",
          "name": "stdout",
          "text": [
            "2\n",
            "2\n",
            "4\n"
          ]
        }
      ]
    },
    {
      "cell_type": "markdown",
      "source": [
        "Using series `index`."
      ],
      "metadata": {
        "id": "n5pCKq5hdyPy"
      }
    },
    {
      "cell_type": "code",
      "source": [
        "area_series = pd.Series(area_list, index=cities_list)\n",
        "area_series"
      ],
      "metadata": {
        "colab": {
          "base_uri": "https://localhost:8080/"
        },
        "id": "I7LY1zHJdq7X",
        "outputId": "3d251dce-52bc-4c36-c940-7992870d4479"
      },
      "execution_count": null,
      "outputs": [
        {
          "output_type": "execute_result",
          "data": {
            "text/plain": [
              "Wrocław    292.80\n",
              "Opole      149.00\n",
              "Cyców      147.90\n",
              "Moszna       7.29\n",
              "dtype: float64"
            ]
          },
          "metadata": {},
          "execution_count": 54
        }
      ]
    },
    {
      "cell_type": "code",
      "source": [
        "print(area_series.index, \n",
        "      area_series.values, sep='\\n')"
      ],
      "metadata": {
        "colab": {
          "base_uri": "https://localhost:8080/"
        },
        "id": "_xL41VE6eQZn",
        "outputId": "8e49d390-4b1f-4611-8c0b-807b3926e64c"
      },
      "execution_count": null,
      "outputs": [
        {
          "output_type": "stream",
          "name": "stdout",
          "text": [
            "Index(['Wrocław', 'Opole', 'Cyców', 'Moszna'], dtype='object')\n",
            "[292.8  149.   147.9    7.29]\n"
          ]
        }
      ]
    },
    {
      "cell_type": "code",
      "source": [
        "empty_series = pd.Series(dtype='int')"
      ],
      "metadata": {
        "id": "AzIsOkRuCTLs"
      },
      "execution_count": null,
      "outputs": []
    },
    {
      "cell_type": "markdown",
      "source": [
        "**Data Frame** <br>\n",
        "`Pandas` <br>\n",
        "It is a collection of series that share a common index. <br>\n",
        "Try the `display` command to print the data contained in the data frame. <br>\n",
        "The data frame is the must-know for a data scientist.. "
      ],
      "metadata": {
        "id": "yKuePSTaeslt"
      }
    },
    {
      "cell_type": "code",
      "source": [
        "df = pd.DataFrame({'Population': population_dict,\n",
        "                   'Area': area_dict})\n",
        "display(df)"
      ],
      "metadata": {
        "colab": {
          "base_uri": "https://localhost:8080/",
          "height": 331
        },
        "id": "ZsIcg_CveT4T",
        "outputId": "835364f3-f87a-4196-a7eb-999c1bbdc2b8"
      },
      "execution_count": null,
      "outputs": [
        {
          "output_type": "display_data",
          "data": {
            "text/html": [
              "\n",
              "  <div id=\"df-ce2466b9-bee5-4de8-98c1-ee1a496abc06\">\n",
              "    <div class=\"colab-df-container\">\n",
              "      <div>\n",
              "<style scoped>\n",
              "    .dataframe tbody tr th:only-of-type {\n",
              "        vertical-align: middle;\n",
              "    }\n",
              "\n",
              "    .dataframe tbody tr th {\n",
              "        vertical-align: top;\n",
              "    }\n",
              "\n",
              "    .dataframe thead th {\n",
              "        text-align: right;\n",
              "    }\n",
              "</style>\n",
              "<table border=\"1\" class=\"dataframe\">\n",
              "  <thead>\n",
              "    <tr style=\"text-align: right;\">\n",
              "      <th></th>\n",
              "      <th>Population</th>\n",
              "      <th>Area</th>\n",
              "    </tr>\n",
              "  </thead>\n",
              "  <tbody>\n",
              "    <tr>\n",
              "      <th>Wrocław</th>\n",
              "      <td>643782</td>\n",
              "      <td>292.80</td>\n",
              "    </tr>\n",
              "    <tr>\n",
              "      <th>Opole</th>\n",
              "      <td>128140</td>\n",
              "      <td>149.00</td>\n",
              "    </tr>\n",
              "    <tr>\n",
              "      <th>Cyców</th>\n",
              "      <td>1200</td>\n",
              "      <td>147.90</td>\n",
              "    </tr>\n",
              "    <tr>\n",
              "      <th>Moszna</th>\n",
              "      <td>350</td>\n",
              "      <td>7.29</td>\n",
              "    </tr>\n",
              "    <tr>\n",
              "      <th>Browarek</th>\n",
              "      <td>48</td>\n",
              "      <td>2.81</td>\n",
              "    </tr>\n",
              "    <tr>\n",
              "      <th>Złe Mięso</th>\n",
              "      <td>195</td>\n",
              "      <td>4.38</td>\n",
              "    </tr>\n",
              "    <tr>\n",
              "      <th>Radom</th>\n",
              "      <td>210532</td>\n",
              "      <td>111.80</td>\n",
              "    </tr>\n",
              "    <tr>\n",
              "      <th>Paryż</th>\n",
              "      <td>2148000</td>\n",
              "      <td>105.40</td>\n",
              "    </tr>\n",
              "    <tr>\n",
              "      <th>Biłgoraj</th>\n",
              "      <td>27106</td>\n",
              "      <td>21.10</td>\n",
              "    </tr>\n",
              "  </tbody>\n",
              "</table>\n",
              "</div>\n",
              "      <button class=\"colab-df-convert\" onclick=\"convertToInteractive('df-ce2466b9-bee5-4de8-98c1-ee1a496abc06')\"\n",
              "              title=\"Convert this dataframe to an interactive table.\"\n",
              "              style=\"display:none;\">\n",
              "        \n",
              "  <svg xmlns=\"http://www.w3.org/2000/svg\" height=\"24px\"viewBox=\"0 0 24 24\"\n",
              "       width=\"24px\">\n",
              "    <path d=\"M0 0h24v24H0V0z\" fill=\"none\"/>\n",
              "    <path d=\"M18.56 5.44l.94 2.06.94-2.06 2.06-.94-2.06-.94-.94-2.06-.94 2.06-2.06.94zm-11 1L8.5 8.5l.94-2.06 2.06-.94-2.06-.94L8.5 2.5l-.94 2.06-2.06.94zm10 10l.94 2.06.94-2.06 2.06-.94-2.06-.94-.94-2.06-.94 2.06-2.06.94z\"/><path d=\"M17.41 7.96l-1.37-1.37c-.4-.4-.92-.59-1.43-.59-.52 0-1.04.2-1.43.59L10.3 9.45l-7.72 7.72c-.78.78-.78 2.05 0 2.83L4 21.41c.39.39.9.59 1.41.59.51 0 1.02-.2 1.41-.59l7.78-7.78 2.81-2.81c.8-.78.8-2.07 0-2.86zM5.41 20L4 18.59l7.72-7.72 1.47 1.35L5.41 20z\"/>\n",
              "  </svg>\n",
              "      </button>\n",
              "      \n",
              "  <style>\n",
              "    .colab-df-container {\n",
              "      display:flex;\n",
              "      flex-wrap:wrap;\n",
              "      gap: 12px;\n",
              "    }\n",
              "\n",
              "    .colab-df-convert {\n",
              "      background-color: #E8F0FE;\n",
              "      border: none;\n",
              "      border-radius: 50%;\n",
              "      cursor: pointer;\n",
              "      display: none;\n",
              "      fill: #1967D2;\n",
              "      height: 32px;\n",
              "      padding: 0 0 0 0;\n",
              "      width: 32px;\n",
              "    }\n",
              "\n",
              "    .colab-df-convert:hover {\n",
              "      background-color: #E2EBFA;\n",
              "      box-shadow: 0px 1px 2px rgba(60, 64, 67, 0.3), 0px 1px 3px 1px rgba(60, 64, 67, 0.15);\n",
              "      fill: #174EA6;\n",
              "    }\n",
              "\n",
              "    [theme=dark] .colab-df-convert {\n",
              "      background-color: #3B4455;\n",
              "      fill: #D2E3FC;\n",
              "    }\n",
              "\n",
              "    [theme=dark] .colab-df-convert:hover {\n",
              "      background-color: #434B5C;\n",
              "      box-shadow: 0px 1px 3px 1px rgba(0, 0, 0, 0.15);\n",
              "      filter: drop-shadow(0px 1px 2px rgba(0, 0, 0, 0.3));\n",
              "      fill: #FFFFFF;\n",
              "    }\n",
              "  </style>\n",
              "\n",
              "      <script>\n",
              "        const buttonEl =\n",
              "          document.querySelector('#df-ce2466b9-bee5-4de8-98c1-ee1a496abc06 button.colab-df-convert');\n",
              "        buttonEl.style.display =\n",
              "          google.colab.kernel.accessAllowed ? 'block' : 'none';\n",
              "\n",
              "        async function convertToInteractive(key) {\n",
              "          const element = document.querySelector('#df-ce2466b9-bee5-4de8-98c1-ee1a496abc06');\n",
              "          const dataTable =\n",
              "            await google.colab.kernel.invokeFunction('convertToInteractive',\n",
              "                                                     [key], {});\n",
              "          if (!dataTable) return;\n",
              "\n",
              "          const docLinkHtml = 'Like what you see? Visit the ' +\n",
              "            '<a target=\"_blank\" href=https://colab.research.google.com/notebooks/data_table.ipynb>data table notebook</a>'\n",
              "            + ' to learn more about interactive tables.';\n",
              "          element.innerHTML = '';\n",
              "          dataTable['output_type'] = 'display_data';\n",
              "          await google.colab.output.renderOutput(dataTable, element);\n",
              "          const docLink = document.createElement('div');\n",
              "          docLink.innerHTML = docLinkHtml;\n",
              "          element.appendChild(docLink);\n",
              "        }\n",
              "      </script>\n",
              "    </div>\n",
              "  </div>\n",
              "  "
            ],
            "text/plain": [
              "           Population    Area\n",
              "Wrocław        643782  292.80\n",
              "Opole          128140  149.00\n",
              "Cyców            1200  147.90\n",
              "Moszna            350    7.29\n",
              "Browarek           48    2.81\n",
              "Złe Mięso         195    4.38\n",
              "Radom          210532  111.80\n",
              "Paryż         2148000  105.40\n",
              "Biłgoraj        27106   21.10"
            ]
          },
          "metadata": {}
        }
      ]
    },
    {
      "cell_type": "code",
      "source": [
        "print(df.index, \n",
        "      df.columns, sep='\\n')"
      ],
      "metadata": {
        "colab": {
          "base_uri": "https://localhost:8080/"
        },
        "id": "wJWVmI1HfRlW",
        "outputId": "f20b54f2-b1b1-46d6-b3c3-ebdb00843240"
      },
      "execution_count": null,
      "outputs": [
        {
          "output_type": "stream",
          "name": "stdout",
          "text": [
            "Index(['Wrocław', 'Opole', 'Cyców', 'Moszna', 'Browarek', 'Złe Mięso', 'Radom',\n",
            "       'Paryż', 'Biłgoraj'],\n",
            "      dtype='object')\n",
            "Index(['Population', 'Area'], dtype='object')\n"
          ]
        }
      ]
    },
    {
      "cell_type": "code",
      "source": [
        "df.loc['Radom','Area'] = 112"
      ],
      "metadata": {
        "id": "AneCTk65fUmw"
      },
      "execution_count": null,
      "outputs": []
    },
    {
      "cell_type": "code",
      "source": [
        "df[['Population']]"
      ],
      "metadata": {
        "colab": {
          "base_uri": "https://localhost:8080/",
          "height": 331
        },
        "id": "8Ln3f9lBfX3j",
        "outputId": "b08df146-f486-427b-c26c-c80debeb8001"
      },
      "execution_count": null,
      "outputs": [
        {
          "output_type": "execute_result",
          "data": {
            "text/html": [
              "\n",
              "  <div id=\"df-4b14388d-2624-4dcb-8a48-f5813b6766cd\">\n",
              "    <div class=\"colab-df-container\">\n",
              "      <div>\n",
              "<style scoped>\n",
              "    .dataframe tbody tr th:only-of-type {\n",
              "        vertical-align: middle;\n",
              "    }\n",
              "\n",
              "    .dataframe tbody tr th {\n",
              "        vertical-align: top;\n",
              "    }\n",
              "\n",
              "    .dataframe thead th {\n",
              "        text-align: right;\n",
              "    }\n",
              "</style>\n",
              "<table border=\"1\" class=\"dataframe\">\n",
              "  <thead>\n",
              "    <tr style=\"text-align: right;\">\n",
              "      <th></th>\n",
              "      <th>Population</th>\n",
              "    </tr>\n",
              "  </thead>\n",
              "  <tbody>\n",
              "    <tr>\n",
              "      <th>Wrocław</th>\n",
              "      <td>643782</td>\n",
              "    </tr>\n",
              "    <tr>\n",
              "      <th>Opole</th>\n",
              "      <td>128140</td>\n",
              "    </tr>\n",
              "    <tr>\n",
              "      <th>Cyców</th>\n",
              "      <td>1200</td>\n",
              "    </tr>\n",
              "    <tr>\n",
              "      <th>Moszna</th>\n",
              "      <td>350</td>\n",
              "    </tr>\n",
              "    <tr>\n",
              "      <th>Browarek</th>\n",
              "      <td>48</td>\n",
              "    </tr>\n",
              "    <tr>\n",
              "      <th>Złe Mięso</th>\n",
              "      <td>195</td>\n",
              "    </tr>\n",
              "    <tr>\n",
              "      <th>Radom</th>\n",
              "      <td>210532</td>\n",
              "    </tr>\n",
              "    <tr>\n",
              "      <th>Paryż</th>\n",
              "      <td>2148000</td>\n",
              "    </tr>\n",
              "    <tr>\n",
              "      <th>Biłgoraj</th>\n",
              "      <td>27106</td>\n",
              "    </tr>\n",
              "  </tbody>\n",
              "</table>\n",
              "</div>\n",
              "      <button class=\"colab-df-convert\" onclick=\"convertToInteractive('df-4b14388d-2624-4dcb-8a48-f5813b6766cd')\"\n",
              "              title=\"Convert this dataframe to an interactive table.\"\n",
              "              style=\"display:none;\">\n",
              "        \n",
              "  <svg xmlns=\"http://www.w3.org/2000/svg\" height=\"24px\"viewBox=\"0 0 24 24\"\n",
              "       width=\"24px\">\n",
              "    <path d=\"M0 0h24v24H0V0z\" fill=\"none\"/>\n",
              "    <path d=\"M18.56 5.44l.94 2.06.94-2.06 2.06-.94-2.06-.94-.94-2.06-.94 2.06-2.06.94zm-11 1L8.5 8.5l.94-2.06 2.06-.94-2.06-.94L8.5 2.5l-.94 2.06-2.06.94zm10 10l.94 2.06.94-2.06 2.06-.94-2.06-.94-.94-2.06-.94 2.06-2.06.94z\"/><path d=\"M17.41 7.96l-1.37-1.37c-.4-.4-.92-.59-1.43-.59-.52 0-1.04.2-1.43.59L10.3 9.45l-7.72 7.72c-.78.78-.78 2.05 0 2.83L4 21.41c.39.39.9.59 1.41.59.51 0 1.02-.2 1.41-.59l7.78-7.78 2.81-2.81c.8-.78.8-2.07 0-2.86zM5.41 20L4 18.59l7.72-7.72 1.47 1.35L5.41 20z\"/>\n",
              "  </svg>\n",
              "      </button>\n",
              "      \n",
              "  <style>\n",
              "    .colab-df-container {\n",
              "      display:flex;\n",
              "      flex-wrap:wrap;\n",
              "      gap: 12px;\n",
              "    }\n",
              "\n",
              "    .colab-df-convert {\n",
              "      background-color: #E8F0FE;\n",
              "      border: none;\n",
              "      border-radius: 50%;\n",
              "      cursor: pointer;\n",
              "      display: none;\n",
              "      fill: #1967D2;\n",
              "      height: 32px;\n",
              "      padding: 0 0 0 0;\n",
              "      width: 32px;\n",
              "    }\n",
              "\n",
              "    .colab-df-convert:hover {\n",
              "      background-color: #E2EBFA;\n",
              "      box-shadow: 0px 1px 2px rgba(60, 64, 67, 0.3), 0px 1px 3px 1px rgba(60, 64, 67, 0.15);\n",
              "      fill: #174EA6;\n",
              "    }\n",
              "\n",
              "    [theme=dark] .colab-df-convert {\n",
              "      background-color: #3B4455;\n",
              "      fill: #D2E3FC;\n",
              "    }\n",
              "\n",
              "    [theme=dark] .colab-df-convert:hover {\n",
              "      background-color: #434B5C;\n",
              "      box-shadow: 0px 1px 3px 1px rgba(0, 0, 0, 0.15);\n",
              "      filter: drop-shadow(0px 1px 2px rgba(0, 0, 0, 0.3));\n",
              "      fill: #FFFFFF;\n",
              "    }\n",
              "  </style>\n",
              "\n",
              "      <script>\n",
              "        const buttonEl =\n",
              "          document.querySelector('#df-4b14388d-2624-4dcb-8a48-f5813b6766cd button.colab-df-convert');\n",
              "        buttonEl.style.display =\n",
              "          google.colab.kernel.accessAllowed ? 'block' : 'none';\n",
              "\n",
              "        async function convertToInteractive(key) {\n",
              "          const element = document.querySelector('#df-4b14388d-2624-4dcb-8a48-f5813b6766cd');\n",
              "          const dataTable =\n",
              "            await google.colab.kernel.invokeFunction('convertToInteractive',\n",
              "                                                     [key], {});\n",
              "          if (!dataTable) return;\n",
              "\n",
              "          const docLinkHtml = 'Like what you see? Visit the ' +\n",
              "            '<a target=\"_blank\" href=https://colab.research.google.com/notebooks/data_table.ipynb>data table notebook</a>'\n",
              "            + ' to learn more about interactive tables.';\n",
              "          element.innerHTML = '';\n",
              "          dataTable['output_type'] = 'display_data';\n",
              "          await google.colab.output.renderOutput(dataTable, element);\n",
              "          const docLink = document.createElement('div');\n",
              "          docLink.innerHTML = docLinkHtml;\n",
              "          element.appendChild(docLink);\n",
              "        }\n",
              "      </script>\n",
              "    </div>\n",
              "  </div>\n",
              "  "
            ],
            "text/plain": [
              "           Population\n",
              "Wrocław        643782\n",
              "Opole          128140\n",
              "Cyców            1200\n",
              "Moszna            350\n",
              "Browarek           48\n",
              "Złe Mięso         195\n",
              "Radom          210532\n",
              "Paryż         2148000\n",
              "Biłgoraj        27106"
            ]
          },
          "metadata": {},
          "execution_count": 60
        }
      ]
    },
    {
      "cell_type": "markdown",
      "source": [
        "Data frame may be transposed."
      ],
      "metadata": {
        "id": "fLNIqRYEfeIY"
      }
    },
    {
      "cell_type": "code",
      "source": [
        "df.T"
      ],
      "metadata": {
        "colab": {
          "base_uri": "https://localhost:8080/",
          "height": 112
        },
        "id": "7qK9rHn2fiv8",
        "outputId": "5dba9cc5-f75b-4bae-d93c-0c88fbd4f90b"
      },
      "execution_count": null,
      "outputs": [
        {
          "output_type": "execute_result",
          "data": {
            "text/html": [
              "\n",
              "  <div id=\"df-f5596d02-99b7-4c75-ac3b-271e9f2c2f54\">\n",
              "    <div class=\"colab-df-container\">\n",
              "      <div>\n",
              "<style scoped>\n",
              "    .dataframe tbody tr th:only-of-type {\n",
              "        vertical-align: middle;\n",
              "    }\n",
              "\n",
              "    .dataframe tbody tr th {\n",
              "        vertical-align: top;\n",
              "    }\n",
              "\n",
              "    .dataframe thead th {\n",
              "        text-align: right;\n",
              "    }\n",
              "</style>\n",
              "<table border=\"1\" class=\"dataframe\">\n",
              "  <thead>\n",
              "    <tr style=\"text-align: right;\">\n",
              "      <th></th>\n",
              "      <th>Wrocław</th>\n",
              "      <th>Opole</th>\n",
              "      <th>Cyców</th>\n",
              "      <th>Moszna</th>\n",
              "      <th>Browarek</th>\n",
              "      <th>Złe Mięso</th>\n",
              "      <th>Radom</th>\n",
              "      <th>Paryż</th>\n",
              "      <th>Biłgoraj</th>\n",
              "    </tr>\n",
              "  </thead>\n",
              "  <tbody>\n",
              "    <tr>\n",
              "      <th>Population</th>\n",
              "      <td>643782.0</td>\n",
              "      <td>128140.0</td>\n",
              "      <td>1200.0</td>\n",
              "      <td>350.00</td>\n",
              "      <td>48.00</td>\n",
              "      <td>195.00</td>\n",
              "      <td>210532.0</td>\n",
              "      <td>2148000.0</td>\n",
              "      <td>27106.0</td>\n",
              "    </tr>\n",
              "    <tr>\n",
              "      <th>Area</th>\n",
              "      <td>292.8</td>\n",
              "      <td>149.0</td>\n",
              "      <td>147.9</td>\n",
              "      <td>7.29</td>\n",
              "      <td>2.81</td>\n",
              "      <td>4.38</td>\n",
              "      <td>112.0</td>\n",
              "      <td>105.4</td>\n",
              "      <td>21.1</td>\n",
              "    </tr>\n",
              "  </tbody>\n",
              "</table>\n",
              "</div>\n",
              "      <button class=\"colab-df-convert\" onclick=\"convertToInteractive('df-f5596d02-99b7-4c75-ac3b-271e9f2c2f54')\"\n",
              "              title=\"Convert this dataframe to an interactive table.\"\n",
              "              style=\"display:none;\">\n",
              "        \n",
              "  <svg xmlns=\"http://www.w3.org/2000/svg\" height=\"24px\"viewBox=\"0 0 24 24\"\n",
              "       width=\"24px\">\n",
              "    <path d=\"M0 0h24v24H0V0z\" fill=\"none\"/>\n",
              "    <path d=\"M18.56 5.44l.94 2.06.94-2.06 2.06-.94-2.06-.94-.94-2.06-.94 2.06-2.06.94zm-11 1L8.5 8.5l.94-2.06 2.06-.94-2.06-.94L8.5 2.5l-.94 2.06-2.06.94zm10 10l.94 2.06.94-2.06 2.06-.94-2.06-.94-.94-2.06-.94 2.06-2.06.94z\"/><path d=\"M17.41 7.96l-1.37-1.37c-.4-.4-.92-.59-1.43-.59-.52 0-1.04.2-1.43.59L10.3 9.45l-7.72 7.72c-.78.78-.78 2.05 0 2.83L4 21.41c.39.39.9.59 1.41.59.51 0 1.02-.2 1.41-.59l7.78-7.78 2.81-2.81c.8-.78.8-2.07 0-2.86zM5.41 20L4 18.59l7.72-7.72 1.47 1.35L5.41 20z\"/>\n",
              "  </svg>\n",
              "      </button>\n",
              "      \n",
              "  <style>\n",
              "    .colab-df-container {\n",
              "      display:flex;\n",
              "      flex-wrap:wrap;\n",
              "      gap: 12px;\n",
              "    }\n",
              "\n",
              "    .colab-df-convert {\n",
              "      background-color: #E8F0FE;\n",
              "      border: none;\n",
              "      border-radius: 50%;\n",
              "      cursor: pointer;\n",
              "      display: none;\n",
              "      fill: #1967D2;\n",
              "      height: 32px;\n",
              "      padding: 0 0 0 0;\n",
              "      width: 32px;\n",
              "    }\n",
              "\n",
              "    .colab-df-convert:hover {\n",
              "      background-color: #E2EBFA;\n",
              "      box-shadow: 0px 1px 2px rgba(60, 64, 67, 0.3), 0px 1px 3px 1px rgba(60, 64, 67, 0.15);\n",
              "      fill: #174EA6;\n",
              "    }\n",
              "\n",
              "    [theme=dark] .colab-df-convert {\n",
              "      background-color: #3B4455;\n",
              "      fill: #D2E3FC;\n",
              "    }\n",
              "\n",
              "    [theme=dark] .colab-df-convert:hover {\n",
              "      background-color: #434B5C;\n",
              "      box-shadow: 0px 1px 3px 1px rgba(0, 0, 0, 0.15);\n",
              "      filter: drop-shadow(0px 1px 2px rgba(0, 0, 0, 0.3));\n",
              "      fill: #FFFFFF;\n",
              "    }\n",
              "  </style>\n",
              "\n",
              "      <script>\n",
              "        const buttonEl =\n",
              "          document.querySelector('#df-f5596d02-99b7-4c75-ac3b-271e9f2c2f54 button.colab-df-convert');\n",
              "        buttonEl.style.display =\n",
              "          google.colab.kernel.accessAllowed ? 'block' : 'none';\n",
              "\n",
              "        async function convertToInteractive(key) {\n",
              "          const element = document.querySelector('#df-f5596d02-99b7-4c75-ac3b-271e9f2c2f54');\n",
              "          const dataTable =\n",
              "            await google.colab.kernel.invokeFunction('convertToInteractive',\n",
              "                                                     [key], {});\n",
              "          if (!dataTable) return;\n",
              "\n",
              "          const docLinkHtml = 'Like what you see? Visit the ' +\n",
              "            '<a target=\"_blank\" href=https://colab.research.google.com/notebooks/data_table.ipynb>data table notebook</a>'\n",
              "            + ' to learn more about interactive tables.';\n",
              "          element.innerHTML = '';\n",
              "          dataTable['output_type'] = 'display_data';\n",
              "          await google.colab.output.renderOutput(dataTable, element);\n",
              "          const docLink = document.createElement('div');\n",
              "          docLink.innerHTML = docLinkHtml;\n",
              "          element.appendChild(docLink);\n",
              "        }\n",
              "      </script>\n",
              "    </div>\n",
              "  </div>\n",
              "  "
            ],
            "text/plain": [
              "             Wrocław     Opole   Cyców  Moszna  Browarek  Złe Mięso     Radom  \\\n",
              "Population  643782.0  128140.0  1200.0  350.00     48.00     195.00  210532.0   \n",
              "Area           292.8     149.0   147.9    7.29      2.81       4.38     112.0   \n",
              "\n",
              "                Paryż  Biłgoraj  \n",
              "Population  2148000.0   27106.0  \n",
              "Area            105.4      21.1  "
            ]
          },
          "metadata": {},
          "execution_count": 61
        }
      ]
    },
    {
      "cell_type": "code",
      "source": [
        "df.T[['Wrocław']]"
      ],
      "metadata": {
        "colab": {
          "base_uri": "https://localhost:8080/",
          "height": 112
        },
        "id": "SWI2PE87fZxT",
        "outputId": "cde33256-aa3b-4e09-892c-54179c64de18"
      },
      "execution_count": null,
      "outputs": [
        {
          "output_type": "execute_result",
          "data": {
            "text/html": [
              "\n",
              "  <div id=\"df-13a86e4d-8631-4155-a05c-b11c6e8afa7b\">\n",
              "    <div class=\"colab-df-container\">\n",
              "      <div>\n",
              "<style scoped>\n",
              "    .dataframe tbody tr th:only-of-type {\n",
              "        vertical-align: middle;\n",
              "    }\n",
              "\n",
              "    .dataframe tbody tr th {\n",
              "        vertical-align: top;\n",
              "    }\n",
              "\n",
              "    .dataframe thead th {\n",
              "        text-align: right;\n",
              "    }\n",
              "</style>\n",
              "<table border=\"1\" class=\"dataframe\">\n",
              "  <thead>\n",
              "    <tr style=\"text-align: right;\">\n",
              "      <th></th>\n",
              "      <th>Wrocław</th>\n",
              "    </tr>\n",
              "  </thead>\n",
              "  <tbody>\n",
              "    <tr>\n",
              "      <th>Population</th>\n",
              "      <td>643782.0</td>\n",
              "    </tr>\n",
              "    <tr>\n",
              "      <th>Area</th>\n",
              "      <td>292.8</td>\n",
              "    </tr>\n",
              "  </tbody>\n",
              "</table>\n",
              "</div>\n",
              "      <button class=\"colab-df-convert\" onclick=\"convertToInteractive('df-13a86e4d-8631-4155-a05c-b11c6e8afa7b')\"\n",
              "              title=\"Convert this dataframe to an interactive table.\"\n",
              "              style=\"display:none;\">\n",
              "        \n",
              "  <svg xmlns=\"http://www.w3.org/2000/svg\" height=\"24px\"viewBox=\"0 0 24 24\"\n",
              "       width=\"24px\">\n",
              "    <path d=\"M0 0h24v24H0V0z\" fill=\"none\"/>\n",
              "    <path d=\"M18.56 5.44l.94 2.06.94-2.06 2.06-.94-2.06-.94-.94-2.06-.94 2.06-2.06.94zm-11 1L8.5 8.5l.94-2.06 2.06-.94-2.06-.94L8.5 2.5l-.94 2.06-2.06.94zm10 10l.94 2.06.94-2.06 2.06-.94-2.06-.94-.94-2.06-.94 2.06-2.06.94z\"/><path d=\"M17.41 7.96l-1.37-1.37c-.4-.4-.92-.59-1.43-.59-.52 0-1.04.2-1.43.59L10.3 9.45l-7.72 7.72c-.78.78-.78 2.05 0 2.83L4 21.41c.39.39.9.59 1.41.59.51 0 1.02-.2 1.41-.59l7.78-7.78 2.81-2.81c.8-.78.8-2.07 0-2.86zM5.41 20L4 18.59l7.72-7.72 1.47 1.35L5.41 20z\"/>\n",
              "  </svg>\n",
              "      </button>\n",
              "      \n",
              "  <style>\n",
              "    .colab-df-container {\n",
              "      display:flex;\n",
              "      flex-wrap:wrap;\n",
              "      gap: 12px;\n",
              "    }\n",
              "\n",
              "    .colab-df-convert {\n",
              "      background-color: #E8F0FE;\n",
              "      border: none;\n",
              "      border-radius: 50%;\n",
              "      cursor: pointer;\n",
              "      display: none;\n",
              "      fill: #1967D2;\n",
              "      height: 32px;\n",
              "      padding: 0 0 0 0;\n",
              "      width: 32px;\n",
              "    }\n",
              "\n",
              "    .colab-df-convert:hover {\n",
              "      background-color: #E2EBFA;\n",
              "      box-shadow: 0px 1px 2px rgba(60, 64, 67, 0.3), 0px 1px 3px 1px rgba(60, 64, 67, 0.15);\n",
              "      fill: #174EA6;\n",
              "    }\n",
              "\n",
              "    [theme=dark] .colab-df-convert {\n",
              "      background-color: #3B4455;\n",
              "      fill: #D2E3FC;\n",
              "    }\n",
              "\n",
              "    [theme=dark] .colab-df-convert:hover {\n",
              "      background-color: #434B5C;\n",
              "      box-shadow: 0px 1px 3px 1px rgba(0, 0, 0, 0.15);\n",
              "      filter: drop-shadow(0px 1px 2px rgba(0, 0, 0, 0.3));\n",
              "      fill: #FFFFFF;\n",
              "    }\n",
              "  </style>\n",
              "\n",
              "      <script>\n",
              "        const buttonEl =\n",
              "          document.querySelector('#df-13a86e4d-8631-4155-a05c-b11c6e8afa7b button.colab-df-convert');\n",
              "        buttonEl.style.display =\n",
              "          google.colab.kernel.accessAllowed ? 'block' : 'none';\n",
              "\n",
              "        async function convertToInteractive(key) {\n",
              "          const element = document.querySelector('#df-13a86e4d-8631-4155-a05c-b11c6e8afa7b');\n",
              "          const dataTable =\n",
              "            await google.colab.kernel.invokeFunction('convertToInteractive',\n",
              "                                                     [key], {});\n",
              "          if (!dataTable) return;\n",
              "\n",
              "          const docLinkHtml = 'Like what you see? Visit the ' +\n",
              "            '<a target=\"_blank\" href=https://colab.research.google.com/notebooks/data_table.ipynb>data table notebook</a>'\n",
              "            + ' to learn more about interactive tables.';\n",
              "          element.innerHTML = '';\n",
              "          dataTable['output_type'] = 'display_data';\n",
              "          await google.colab.output.renderOutput(dataTable, element);\n",
              "          const docLink = document.createElement('div');\n",
              "          docLink.innerHTML = docLinkHtml;\n",
              "          element.appendChild(docLink);\n",
              "        }\n",
              "      </script>\n",
              "    </div>\n",
              "  </div>\n",
              "  "
            ],
            "text/plain": [
              "             Wrocław\n",
              "Population  643782.0\n",
              "Area           292.8"
            ]
          },
          "metadata": {},
          "execution_count": 62
        }
      ]
    },
    {
      "cell_type": "markdown",
      "source": [
        "**Investigate** the difference between\n",
        "```python\n",
        "df.T[['Wrocław']]\n",
        "``` \n",
        "and\n",
        "```python \n",
        "df.T['Wrocław']\n",
        "```"
      ],
      "metadata": {
        "id": "sjILqrA_NuGQ"
      }
    },
    {
      "cell_type": "code",
      "source": [
        "df.rename(columns={'Population': 'pop', 'Area': 'pow'})"
      ],
      "metadata": {
        "colab": {
          "base_uri": "https://localhost:8080/",
          "height": 331
        },
        "id": "slL-Mwb3fc7H",
        "outputId": "fbff802c-f991-4389-c255-4b07dade8684"
      },
      "execution_count": null,
      "outputs": [
        {
          "output_type": "execute_result",
          "data": {
            "text/html": [
              "\n",
              "  <div id=\"df-1562e11b-42b8-47de-b3a7-b8cfe9ff2a3d\">\n",
              "    <div class=\"colab-df-container\">\n",
              "      <div>\n",
              "<style scoped>\n",
              "    .dataframe tbody tr th:only-of-type {\n",
              "        vertical-align: middle;\n",
              "    }\n",
              "\n",
              "    .dataframe tbody tr th {\n",
              "        vertical-align: top;\n",
              "    }\n",
              "\n",
              "    .dataframe thead th {\n",
              "        text-align: right;\n",
              "    }\n",
              "</style>\n",
              "<table border=\"1\" class=\"dataframe\">\n",
              "  <thead>\n",
              "    <tr style=\"text-align: right;\">\n",
              "      <th></th>\n",
              "      <th>pop</th>\n",
              "      <th>pow</th>\n",
              "    </tr>\n",
              "  </thead>\n",
              "  <tbody>\n",
              "    <tr>\n",
              "      <th>Wrocław</th>\n",
              "      <td>643782</td>\n",
              "      <td>292.80</td>\n",
              "    </tr>\n",
              "    <tr>\n",
              "      <th>Opole</th>\n",
              "      <td>128140</td>\n",
              "      <td>149.00</td>\n",
              "    </tr>\n",
              "    <tr>\n",
              "      <th>Cyców</th>\n",
              "      <td>1200</td>\n",
              "      <td>147.90</td>\n",
              "    </tr>\n",
              "    <tr>\n",
              "      <th>Moszna</th>\n",
              "      <td>350</td>\n",
              "      <td>7.29</td>\n",
              "    </tr>\n",
              "    <tr>\n",
              "      <th>Browarek</th>\n",
              "      <td>48</td>\n",
              "      <td>2.81</td>\n",
              "    </tr>\n",
              "    <tr>\n",
              "      <th>Złe Mięso</th>\n",
              "      <td>195</td>\n",
              "      <td>4.38</td>\n",
              "    </tr>\n",
              "    <tr>\n",
              "      <th>Radom</th>\n",
              "      <td>210532</td>\n",
              "      <td>112.00</td>\n",
              "    </tr>\n",
              "    <tr>\n",
              "      <th>Paryż</th>\n",
              "      <td>2148000</td>\n",
              "      <td>105.40</td>\n",
              "    </tr>\n",
              "    <tr>\n",
              "      <th>Biłgoraj</th>\n",
              "      <td>27106</td>\n",
              "      <td>21.10</td>\n",
              "    </tr>\n",
              "  </tbody>\n",
              "</table>\n",
              "</div>\n",
              "      <button class=\"colab-df-convert\" onclick=\"convertToInteractive('df-1562e11b-42b8-47de-b3a7-b8cfe9ff2a3d')\"\n",
              "              title=\"Convert this dataframe to an interactive table.\"\n",
              "              style=\"display:none;\">\n",
              "        \n",
              "  <svg xmlns=\"http://www.w3.org/2000/svg\" height=\"24px\"viewBox=\"0 0 24 24\"\n",
              "       width=\"24px\">\n",
              "    <path d=\"M0 0h24v24H0V0z\" fill=\"none\"/>\n",
              "    <path d=\"M18.56 5.44l.94 2.06.94-2.06 2.06-.94-2.06-.94-.94-2.06-.94 2.06-2.06.94zm-11 1L8.5 8.5l.94-2.06 2.06-.94-2.06-.94L8.5 2.5l-.94 2.06-2.06.94zm10 10l.94 2.06.94-2.06 2.06-.94-2.06-.94-.94-2.06-.94 2.06-2.06.94z\"/><path d=\"M17.41 7.96l-1.37-1.37c-.4-.4-.92-.59-1.43-.59-.52 0-1.04.2-1.43.59L10.3 9.45l-7.72 7.72c-.78.78-.78 2.05 0 2.83L4 21.41c.39.39.9.59 1.41.59.51 0 1.02-.2 1.41-.59l7.78-7.78 2.81-2.81c.8-.78.8-2.07 0-2.86zM5.41 20L4 18.59l7.72-7.72 1.47 1.35L5.41 20z\"/>\n",
              "  </svg>\n",
              "      </button>\n",
              "      \n",
              "  <style>\n",
              "    .colab-df-container {\n",
              "      display:flex;\n",
              "      flex-wrap:wrap;\n",
              "      gap: 12px;\n",
              "    }\n",
              "\n",
              "    .colab-df-convert {\n",
              "      background-color: #E8F0FE;\n",
              "      border: none;\n",
              "      border-radius: 50%;\n",
              "      cursor: pointer;\n",
              "      display: none;\n",
              "      fill: #1967D2;\n",
              "      height: 32px;\n",
              "      padding: 0 0 0 0;\n",
              "      width: 32px;\n",
              "    }\n",
              "\n",
              "    .colab-df-convert:hover {\n",
              "      background-color: #E2EBFA;\n",
              "      box-shadow: 0px 1px 2px rgba(60, 64, 67, 0.3), 0px 1px 3px 1px rgba(60, 64, 67, 0.15);\n",
              "      fill: #174EA6;\n",
              "    }\n",
              "\n",
              "    [theme=dark] .colab-df-convert {\n",
              "      background-color: #3B4455;\n",
              "      fill: #D2E3FC;\n",
              "    }\n",
              "\n",
              "    [theme=dark] .colab-df-convert:hover {\n",
              "      background-color: #434B5C;\n",
              "      box-shadow: 0px 1px 3px 1px rgba(0, 0, 0, 0.15);\n",
              "      filter: drop-shadow(0px 1px 2px rgba(0, 0, 0, 0.3));\n",
              "      fill: #FFFFFF;\n",
              "    }\n",
              "  </style>\n",
              "\n",
              "      <script>\n",
              "        const buttonEl =\n",
              "          document.querySelector('#df-1562e11b-42b8-47de-b3a7-b8cfe9ff2a3d button.colab-df-convert');\n",
              "        buttonEl.style.display =\n",
              "          google.colab.kernel.accessAllowed ? 'block' : 'none';\n",
              "\n",
              "        async function convertToInteractive(key) {\n",
              "          const element = document.querySelector('#df-1562e11b-42b8-47de-b3a7-b8cfe9ff2a3d');\n",
              "          const dataTable =\n",
              "            await google.colab.kernel.invokeFunction('convertToInteractive',\n",
              "                                                     [key], {});\n",
              "          if (!dataTable) return;\n",
              "\n",
              "          const docLinkHtml = 'Like what you see? Visit the ' +\n",
              "            '<a target=\"_blank\" href=https://colab.research.google.com/notebooks/data_table.ipynb>data table notebook</a>'\n",
              "            + ' to learn more about interactive tables.';\n",
              "          element.innerHTML = '';\n",
              "          dataTable['output_type'] = 'display_data';\n",
              "          await google.colab.output.renderOutput(dataTable, element);\n",
              "          const docLink = document.createElement('div');\n",
              "          docLink.innerHTML = docLinkHtml;\n",
              "          element.appendChild(docLink);\n",
              "        }\n",
              "      </script>\n",
              "    </div>\n",
              "  </div>\n",
              "  "
            ],
            "text/plain": [
              "               pop     pow\n",
              "Wrocław     643782  292.80\n",
              "Opole       128140  149.00\n",
              "Cyców         1200  147.90\n",
              "Moszna         350    7.29\n",
              "Browarek        48    2.81\n",
              "Złe Mięso      195    4.38\n",
              "Radom       210532  112.00\n",
              "Paryż      2148000  105.40\n",
              "Biłgoraj     27106   21.10"
            ]
          },
          "metadata": {},
          "execution_count": 63
        }
      ]
    },
    {
      "cell_type": "code",
      "source": [
        "df.replace(48, 'peace_hole')"
      ],
      "metadata": {
        "colab": {
          "base_uri": "https://localhost:8080/",
          "height": 331
        },
        "id": "lRCDmNLdxx99",
        "outputId": "ae066b6e-2e59-4123-e576-b02503563176"
      },
      "execution_count": null,
      "outputs": [
        {
          "output_type": "execute_result",
          "data": {
            "text/html": [
              "\n",
              "  <div id=\"df-7ec250e0-619b-46c1-b4f0-29350f8857b2\">\n",
              "    <div class=\"colab-df-container\">\n",
              "      <div>\n",
              "<style scoped>\n",
              "    .dataframe tbody tr th:only-of-type {\n",
              "        vertical-align: middle;\n",
              "    }\n",
              "\n",
              "    .dataframe tbody tr th {\n",
              "        vertical-align: top;\n",
              "    }\n",
              "\n",
              "    .dataframe thead th {\n",
              "        text-align: right;\n",
              "    }\n",
              "</style>\n",
              "<table border=\"1\" class=\"dataframe\">\n",
              "  <thead>\n",
              "    <tr style=\"text-align: right;\">\n",
              "      <th></th>\n",
              "      <th>Population</th>\n",
              "      <th>Area</th>\n",
              "    </tr>\n",
              "  </thead>\n",
              "  <tbody>\n",
              "    <tr>\n",
              "      <th>Wrocław</th>\n",
              "      <td>643782</td>\n",
              "      <td>292.80</td>\n",
              "    </tr>\n",
              "    <tr>\n",
              "      <th>Opole</th>\n",
              "      <td>128140</td>\n",
              "      <td>149.00</td>\n",
              "    </tr>\n",
              "    <tr>\n",
              "      <th>Cyców</th>\n",
              "      <td>1200</td>\n",
              "      <td>147.90</td>\n",
              "    </tr>\n",
              "    <tr>\n",
              "      <th>Moszna</th>\n",
              "      <td>350</td>\n",
              "      <td>7.29</td>\n",
              "    </tr>\n",
              "    <tr>\n",
              "      <th>Browarek</th>\n",
              "      <td>peace_hole</td>\n",
              "      <td>2.81</td>\n",
              "    </tr>\n",
              "    <tr>\n",
              "      <th>Złe Mięso</th>\n",
              "      <td>195</td>\n",
              "      <td>4.38</td>\n",
              "    </tr>\n",
              "    <tr>\n",
              "      <th>Radom</th>\n",
              "      <td>210532</td>\n",
              "      <td>112.00</td>\n",
              "    </tr>\n",
              "    <tr>\n",
              "      <th>Paryż</th>\n",
              "      <td>2148000</td>\n",
              "      <td>105.40</td>\n",
              "    </tr>\n",
              "    <tr>\n",
              "      <th>Biłgoraj</th>\n",
              "      <td>27106</td>\n",
              "      <td>21.10</td>\n",
              "    </tr>\n",
              "  </tbody>\n",
              "</table>\n",
              "</div>\n",
              "      <button class=\"colab-df-convert\" onclick=\"convertToInteractive('df-7ec250e0-619b-46c1-b4f0-29350f8857b2')\"\n",
              "              title=\"Convert this dataframe to an interactive table.\"\n",
              "              style=\"display:none;\">\n",
              "        \n",
              "  <svg xmlns=\"http://www.w3.org/2000/svg\" height=\"24px\"viewBox=\"0 0 24 24\"\n",
              "       width=\"24px\">\n",
              "    <path d=\"M0 0h24v24H0V0z\" fill=\"none\"/>\n",
              "    <path d=\"M18.56 5.44l.94 2.06.94-2.06 2.06-.94-2.06-.94-.94-2.06-.94 2.06-2.06.94zm-11 1L8.5 8.5l.94-2.06 2.06-.94-2.06-.94L8.5 2.5l-.94 2.06-2.06.94zm10 10l.94 2.06.94-2.06 2.06-.94-2.06-.94-.94-2.06-.94 2.06-2.06.94z\"/><path d=\"M17.41 7.96l-1.37-1.37c-.4-.4-.92-.59-1.43-.59-.52 0-1.04.2-1.43.59L10.3 9.45l-7.72 7.72c-.78.78-.78 2.05 0 2.83L4 21.41c.39.39.9.59 1.41.59.51 0 1.02-.2 1.41-.59l7.78-7.78 2.81-2.81c.8-.78.8-2.07 0-2.86zM5.41 20L4 18.59l7.72-7.72 1.47 1.35L5.41 20z\"/>\n",
              "  </svg>\n",
              "      </button>\n",
              "      \n",
              "  <style>\n",
              "    .colab-df-container {\n",
              "      display:flex;\n",
              "      flex-wrap:wrap;\n",
              "      gap: 12px;\n",
              "    }\n",
              "\n",
              "    .colab-df-convert {\n",
              "      background-color: #E8F0FE;\n",
              "      border: none;\n",
              "      border-radius: 50%;\n",
              "      cursor: pointer;\n",
              "      display: none;\n",
              "      fill: #1967D2;\n",
              "      height: 32px;\n",
              "      padding: 0 0 0 0;\n",
              "      width: 32px;\n",
              "    }\n",
              "\n",
              "    .colab-df-convert:hover {\n",
              "      background-color: #E2EBFA;\n",
              "      box-shadow: 0px 1px 2px rgba(60, 64, 67, 0.3), 0px 1px 3px 1px rgba(60, 64, 67, 0.15);\n",
              "      fill: #174EA6;\n",
              "    }\n",
              "\n",
              "    [theme=dark] .colab-df-convert {\n",
              "      background-color: #3B4455;\n",
              "      fill: #D2E3FC;\n",
              "    }\n",
              "\n",
              "    [theme=dark] .colab-df-convert:hover {\n",
              "      background-color: #434B5C;\n",
              "      box-shadow: 0px 1px 3px 1px rgba(0, 0, 0, 0.15);\n",
              "      filter: drop-shadow(0px 1px 2px rgba(0, 0, 0, 0.3));\n",
              "      fill: #FFFFFF;\n",
              "    }\n",
              "  </style>\n",
              "\n",
              "      <script>\n",
              "        const buttonEl =\n",
              "          document.querySelector('#df-7ec250e0-619b-46c1-b4f0-29350f8857b2 button.colab-df-convert');\n",
              "        buttonEl.style.display =\n",
              "          google.colab.kernel.accessAllowed ? 'block' : 'none';\n",
              "\n",
              "        async function convertToInteractive(key) {\n",
              "          const element = document.querySelector('#df-7ec250e0-619b-46c1-b4f0-29350f8857b2');\n",
              "          const dataTable =\n",
              "            await google.colab.kernel.invokeFunction('convertToInteractive',\n",
              "                                                     [key], {});\n",
              "          if (!dataTable) return;\n",
              "\n",
              "          const docLinkHtml = 'Like what you see? Visit the ' +\n",
              "            '<a target=\"_blank\" href=https://colab.research.google.com/notebooks/data_table.ipynb>data table notebook</a>'\n",
              "            + ' to learn more about interactive tables.';\n",
              "          element.innerHTML = '';\n",
              "          dataTable['output_type'] = 'display_data';\n",
              "          await google.colab.output.renderOutput(dataTable, element);\n",
              "          const docLink = document.createElement('div');\n",
              "          docLink.innerHTML = docLinkHtml;\n",
              "          element.appendChild(docLink);\n",
              "        }\n",
              "      </script>\n",
              "    </div>\n",
              "  </div>\n",
              "  "
            ],
            "text/plain": [
              "           Population    Area\n",
              "Wrocław        643782  292.80\n",
              "Opole          128140  149.00\n",
              "Cyców            1200  147.90\n",
              "Moszna            350    7.29\n",
              "Browarek   peace_hole    2.81\n",
              "Złe Mięso         195    4.38\n",
              "Radom          210532  112.00\n",
              "Paryż         2148000  105.40\n",
              "Biłgoraj        27106   21.10"
            ]
          },
          "metadata": {},
          "execution_count": 64
        }
      ]
    },
    {
      "cell_type": "code",
      "source": [
        "df.rename(index={'Wrocław':'W-w'})"
      ],
      "metadata": {
        "colab": {
          "base_uri": "https://localhost:8080/",
          "height": 331
        },
        "id": "VYxwPXBjx2ew",
        "outputId": "4e0206ea-4067-4bb9-8335-890d4eeb9ac5"
      },
      "execution_count": null,
      "outputs": [
        {
          "output_type": "execute_result",
          "data": {
            "text/html": [
              "\n",
              "  <div id=\"df-bbde6d06-043f-428e-b589-9a0fcfe0f9ed\">\n",
              "    <div class=\"colab-df-container\">\n",
              "      <div>\n",
              "<style scoped>\n",
              "    .dataframe tbody tr th:only-of-type {\n",
              "        vertical-align: middle;\n",
              "    }\n",
              "\n",
              "    .dataframe tbody tr th {\n",
              "        vertical-align: top;\n",
              "    }\n",
              "\n",
              "    .dataframe thead th {\n",
              "        text-align: right;\n",
              "    }\n",
              "</style>\n",
              "<table border=\"1\" class=\"dataframe\">\n",
              "  <thead>\n",
              "    <tr style=\"text-align: right;\">\n",
              "      <th></th>\n",
              "      <th>Population</th>\n",
              "      <th>Area</th>\n",
              "    </tr>\n",
              "  </thead>\n",
              "  <tbody>\n",
              "    <tr>\n",
              "      <th>W-w</th>\n",
              "      <td>643782</td>\n",
              "      <td>292.80</td>\n",
              "    </tr>\n",
              "    <tr>\n",
              "      <th>Opole</th>\n",
              "      <td>128140</td>\n",
              "      <td>149.00</td>\n",
              "    </tr>\n",
              "    <tr>\n",
              "      <th>Cyców</th>\n",
              "      <td>1200</td>\n",
              "      <td>147.90</td>\n",
              "    </tr>\n",
              "    <tr>\n",
              "      <th>Moszna</th>\n",
              "      <td>350</td>\n",
              "      <td>7.29</td>\n",
              "    </tr>\n",
              "    <tr>\n",
              "      <th>Browarek</th>\n",
              "      <td>48</td>\n",
              "      <td>2.81</td>\n",
              "    </tr>\n",
              "    <tr>\n",
              "      <th>Złe Mięso</th>\n",
              "      <td>195</td>\n",
              "      <td>4.38</td>\n",
              "    </tr>\n",
              "    <tr>\n",
              "      <th>Radom</th>\n",
              "      <td>210532</td>\n",
              "      <td>112.00</td>\n",
              "    </tr>\n",
              "    <tr>\n",
              "      <th>Paryż</th>\n",
              "      <td>2148000</td>\n",
              "      <td>105.40</td>\n",
              "    </tr>\n",
              "    <tr>\n",
              "      <th>Biłgoraj</th>\n",
              "      <td>27106</td>\n",
              "      <td>21.10</td>\n",
              "    </tr>\n",
              "  </tbody>\n",
              "</table>\n",
              "</div>\n",
              "      <button class=\"colab-df-convert\" onclick=\"convertToInteractive('df-bbde6d06-043f-428e-b589-9a0fcfe0f9ed')\"\n",
              "              title=\"Convert this dataframe to an interactive table.\"\n",
              "              style=\"display:none;\">\n",
              "        \n",
              "  <svg xmlns=\"http://www.w3.org/2000/svg\" height=\"24px\"viewBox=\"0 0 24 24\"\n",
              "       width=\"24px\">\n",
              "    <path d=\"M0 0h24v24H0V0z\" fill=\"none\"/>\n",
              "    <path d=\"M18.56 5.44l.94 2.06.94-2.06 2.06-.94-2.06-.94-.94-2.06-.94 2.06-2.06.94zm-11 1L8.5 8.5l.94-2.06 2.06-.94-2.06-.94L8.5 2.5l-.94 2.06-2.06.94zm10 10l.94 2.06.94-2.06 2.06-.94-2.06-.94-.94-2.06-.94 2.06-2.06.94z\"/><path d=\"M17.41 7.96l-1.37-1.37c-.4-.4-.92-.59-1.43-.59-.52 0-1.04.2-1.43.59L10.3 9.45l-7.72 7.72c-.78.78-.78 2.05 0 2.83L4 21.41c.39.39.9.59 1.41.59.51 0 1.02-.2 1.41-.59l7.78-7.78 2.81-2.81c.8-.78.8-2.07 0-2.86zM5.41 20L4 18.59l7.72-7.72 1.47 1.35L5.41 20z\"/>\n",
              "  </svg>\n",
              "      </button>\n",
              "      \n",
              "  <style>\n",
              "    .colab-df-container {\n",
              "      display:flex;\n",
              "      flex-wrap:wrap;\n",
              "      gap: 12px;\n",
              "    }\n",
              "\n",
              "    .colab-df-convert {\n",
              "      background-color: #E8F0FE;\n",
              "      border: none;\n",
              "      border-radius: 50%;\n",
              "      cursor: pointer;\n",
              "      display: none;\n",
              "      fill: #1967D2;\n",
              "      height: 32px;\n",
              "      padding: 0 0 0 0;\n",
              "      width: 32px;\n",
              "    }\n",
              "\n",
              "    .colab-df-convert:hover {\n",
              "      background-color: #E2EBFA;\n",
              "      box-shadow: 0px 1px 2px rgba(60, 64, 67, 0.3), 0px 1px 3px 1px rgba(60, 64, 67, 0.15);\n",
              "      fill: #174EA6;\n",
              "    }\n",
              "\n",
              "    [theme=dark] .colab-df-convert {\n",
              "      background-color: #3B4455;\n",
              "      fill: #D2E3FC;\n",
              "    }\n",
              "\n",
              "    [theme=dark] .colab-df-convert:hover {\n",
              "      background-color: #434B5C;\n",
              "      box-shadow: 0px 1px 3px 1px rgba(0, 0, 0, 0.15);\n",
              "      filter: drop-shadow(0px 1px 2px rgba(0, 0, 0, 0.3));\n",
              "      fill: #FFFFFF;\n",
              "    }\n",
              "  </style>\n",
              "\n",
              "      <script>\n",
              "        const buttonEl =\n",
              "          document.querySelector('#df-bbde6d06-043f-428e-b589-9a0fcfe0f9ed button.colab-df-convert');\n",
              "        buttonEl.style.display =\n",
              "          google.colab.kernel.accessAllowed ? 'block' : 'none';\n",
              "\n",
              "        async function convertToInteractive(key) {\n",
              "          const element = document.querySelector('#df-bbde6d06-043f-428e-b589-9a0fcfe0f9ed');\n",
              "          const dataTable =\n",
              "            await google.colab.kernel.invokeFunction('convertToInteractive',\n",
              "                                                     [key], {});\n",
              "          if (!dataTable) return;\n",
              "\n",
              "          const docLinkHtml = 'Like what you see? Visit the ' +\n",
              "            '<a target=\"_blank\" href=https://colab.research.google.com/notebooks/data_table.ipynb>data table notebook</a>'\n",
              "            + ' to learn more about interactive tables.';\n",
              "          element.innerHTML = '';\n",
              "          dataTable['output_type'] = 'display_data';\n",
              "          await google.colab.output.renderOutput(dataTable, element);\n",
              "          const docLink = document.createElement('div');\n",
              "          docLink.innerHTML = docLinkHtml;\n",
              "          element.appendChild(docLink);\n",
              "        }\n",
              "      </script>\n",
              "    </div>\n",
              "  </div>\n",
              "  "
            ],
            "text/plain": [
              "           Population    Area\n",
              "W-w            643782  292.80\n",
              "Opole          128140  149.00\n",
              "Cyców            1200  147.90\n",
              "Moszna            350    7.29\n",
              "Browarek           48    2.81\n",
              "Złe Mięso         195    4.38\n",
              "Radom          210532  112.00\n",
              "Paryż         2148000  105.40\n",
              "Biłgoraj        27106   21.10"
            ]
          },
          "metadata": {},
          "execution_count": 65
        }
      ]
    },
    {
      "cell_type": "code",
      "source": [
        "empty_df = pd.DataFrame(dtype='float64')"
      ],
      "metadata": {
        "id": "g6OTZwfdCvCA"
      },
      "execution_count": null,
      "outputs": []
    },
    {
      "cell_type": "markdown",
      "source": [
        "### Drawing charts\n",
        "Library `Matplotlib`"
      ],
      "metadata": {
        "id": "xX-7_OMbyofL"
      }
    },
    {
      "cell_type": "code",
      "source": [
        "import matplotlib.pyplot as plt"
      ],
      "metadata": {
        "id": "PDL-Xowjx5T2"
      },
      "execution_count": null,
      "outputs": []
    },
    {
      "cell_type": "markdown",
      "source": [
        "Let us begin with a simple one, without frills."
      ],
      "metadata": {
        "id": "CfWRx4E4FZSd"
      }
    },
    {
      "cell_type": "code",
      "source": [
        "x = np.linspace(start=-2, stop=2, num=100)\n",
        "y = x**2\n",
        "plt.plot(x,y);"
      ],
      "metadata": {
        "colab": {
          "base_uri": "https://localhost:8080/",
          "height": 265
        },
        "id": "__hLM5Z5Ff5o",
        "outputId": "661d03b4-39e3-44c8-82f3-ce50442282cb"
      },
      "execution_count": null,
      "outputs": [
        {
          "output_type": "display_data",
          "data": {
            "image/png": "[encoded data removed]",
            "text/plain": [
              "<Figure size 432x288 with 1 Axes>"
            ]
          },
          "metadata": {
            "needs_background": "light"
          }
        }
      ]
    },
    {
      "cell_type": "markdown",
      "source": [
        "And now more detailed charts, suitable for reports, articles, diploma thesis, etc."
      ],
      "metadata": {
        "id": "EHEtjAY3F92S"
      }
    },
    {
      "cell_type": "code",
      "source": [
        "fig, ax = plt.subplots(nrows=1, ncols=2, figsize=(10,4))\n",
        "\n",
        "x = np.arange(start=0, stop=2, step=0.1)\n",
        "y = x**2\n",
        "ax[0].plot(x,y, marker='.')\n",
        "ax[0].set_xlabel('x', fontsize=14)\n",
        "ax[0].set_ylabel('y', fontsize=14)\n",
        "\n",
        "x = np.linspace(start=0, stop=6, num=100)\n",
        "y = np.sin(x) + np.sin(3*x)\n",
        "ax[1].plot(x,np.sin(x), label='component 1', alpha=0.8, linestyle='dashed')\n",
        "ax[1].plot(x,np.sin(3*x), label='component 2', alpha=0.8, linestyle='dotted')\n",
        "ax[1].plot(x,y, label='sum', linewidth=3)\n",
        "ax[1].set_xlabel('x', fontsize=14)\n",
        "ax[1].set_ylabel('y', fontsize=14)\n",
        "ax[1].legend()\n",
        "fig.tight_layout()\n",
        "plt.show()"
      ],
      "metadata": {
        "colab": {
          "base_uri": "https://localhost:8080/",
          "height": 297
        },
        "id": "pH13kdpby2V4",
        "outputId": "a5adba96-6b23-4211-a860-13156adcfd5c"
      },
      "execution_count": null,
      "outputs": [
        {
          "output_type": "display_data",
          "data": {
            "image/png": "[encoded data removed]",
            "text/plain": [
              "<Figure size 720x288 with 2 Axes>"
            ]
          },
          "metadata": {
            "needs_background": "light"
          }
        }
      ]
    },
    {
      "cell_type": "markdown",
      "source": [
        "Laboratory of waves"
      ],
      "metadata": {
        "id": "HzxGHik52Kjr"
      }
    },
    {
      "cell_type": "code",
      "source": [
        "t = np.linspace(0,2*np.pi, 600)\n",
        "x = np.sin(3*t)\n",
        "y = np.cos(5*t)\n",
        "\n",
        "fig, ax = plt.subplots(nrows=1, ncols=2, figsize=(11,4))\n",
        "\n",
        "ax[0].plot(t,x, label='x')\n",
        "ax[0].plot(t,y, label='y')\n",
        "ax[0].set_xlabel('t', fontsize=14)\n",
        "ax[0].set_ylabel('value', fontsize=14)\n",
        "ax[0].legend(fontsize=12)\n",
        "ax[0].set_title('time plot')\n",
        "\n",
        "ax[1].plot(x,y)\n",
        "ax[1].set_xlabel('x', fontsize=14)\n",
        "ax[1].set_ylabel('y', fontsize=14)\n",
        "ax[1].axis('square')\n",
        "ax[1].set_title('state space plot')\n",
        "\n",
        "fig.tight_layout()\n",
        "plt.show()"
      ],
      "metadata": {
        "colab": {
          "base_uri": "https://localhost:8080/",
          "height": 297
        },
        "id": "ptwyBm1UzL-o",
        "outputId": "98097646-1eed-42fc-e6e7-17783a05c344"
      },
      "execution_count": null,
      "outputs": [
        {
          "output_type": "display_data",
          "data": {
            "image/png": "[encoded data removed]",
            "text/plain": [
              "<Figure size 792x288 with 2 Axes>"
            ]
          },
          "metadata": {
            "needs_background": "light"
          }
        }
      ]
    },
    {
      "cell_type": "code",
      "source": [
        "x = np.linspace(0,20, 1001)\n",
        "y = np.zeros_like(x)\n",
        "\n",
        "N = 12100\n",
        "for i in range(1,N+1,2):\n",
        "    y += np.sin(i*x)/i\n",
        "\n",
        "plt.plot(x,y)\n",
        "plt.show()"
      ],
      "metadata": {
        "id": "iUNqSQbd3Co6",
        "colab": {
          "base_uri": "https://localhost:8080/",
          "height": 265
        },
        "outputId": "40890a00-3573-4568-dd2c-363af7491518"
      },
      "execution_count": null,
      "outputs": [
        {
          "output_type": "display_data",
          "data": {
            "image/png": "[encoded data removed]",
            "text/plain": [
              "<Figure size 432x288 with 1 Axes>"
            ]
          },
          "metadata": {
            "needs_background": "light"
          }
        }
      ]
    },
    {
      "cell_type": "code",
      "source": [],
      "metadata": {
        "id": "FB9HnBcWxHyx"
      },
      "execution_count": null,
      "outputs": []
    }
  ]
}