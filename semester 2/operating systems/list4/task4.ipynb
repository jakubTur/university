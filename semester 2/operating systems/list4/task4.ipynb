{
  "cells": [
    {
      "cell_type": "code",
      "execution_count": null,
      "metadata": {
        "colab": {
          "base_uri": "https://localhost:8080/"
        },
        "id": "9RuEkdZNOXPX",
        "outputId": "fb953590-0464-4bd1-ab8b-be0085eb59ce"
      },
      "outputs": [],
      "source": [
        "sequences = []\n",
        "import random\n",
        "i=1\n",
        "disksize = 2000\n",
        "while(i<100):\n",
        "  sequences.append(random.randint(1, disksize)) #generate a sequence of 100 elements\n",
        "  i = i+1\n",
        "print(sequences)\n",
        "inhead=600 #initial position of the head"
      ]
    },
    {
      "cell_type": "markdown",
      "metadata": {
        "id": "fYWSUMPmLGwv"
      },
      "source": [
        "FCFS (First Come First Served) - works the same way it does for the processor. It completes the processes in the order of their appearance in the queue. The first one gets completed first, the second second and so on."
      ]
    },
    {
      "cell_type": "code",
      "execution_count": null,
      "metadata": {
        "colab": {
          "base_uri": "https://localhost:8080/"
        },
        "id": "pp0mHWRzKvW8",
        "outputId": "d496ba41-d09d-4168-b2cf-108db73f644a"
      },
      "outputs": [],
      "source": [
        "totaltimeFCFS = 0\n",
        "prev = inhead #prev is the last (most recent) position of the head\n",
        "for i in sequences:\n",
        "  if i<prev: #this if checks whether the next element is to the right or to the left of the head and calculates its seektime accordingly\n",
        "    seektime = prev-i\n",
        "  else:\n",
        "    seektime = i-prev\n",
        "  totaltimeFCFS=totaltimeFCFS+seektime\n",
        "  prev=i\n",
        "  print(i)\n",
        "print(f\"Total time= {totaltimeFCFS}\")"
      ]
    },
    {
      "cell_type": "markdown",
      "metadata": {
        "id": "ASJV63LLLFsM"
      },
      "source": [
        "SSTF (Shortest Seek Time First) - its performance is generally better than FCFS. The queque in this one is sorted on the basis of the seek time, which is the amount of time the disk takes to move its head to the given segment. For a sequence of read requests of {1, 7, 9} when the head is for example at 5 they would be accesed in the order {7, 9, 1}."
      ]
    },
    {
      "cell_type": "code",
      "execution_count": null,
      "metadata": {
        "colab": {
          "base_uri": "https://localhost:8080/"
        },
        "id": "0el4nBASSo1J",
        "outputId": "e746b1d7-e798-46a9-c185-9056f3e7c69f"
      },
      "outputs": [],
      "source": [
        "import copy\n",
        "totaltimeSSTF = 0\n",
        "prev = inhead\n",
        "all = copy.deepcopy(sequences)\n",
        "all.sort()\n",
        "print(all)\n",
        "posleft = -1\n",
        "leftel=0\n",
        "rightel=len(all)\n",
        "for i in all:\n",
        "  if i<inhead:\n",
        "    posleft+=1\n",
        "    leftel=i\n",
        "posright=posleft+1\n",
        "rightel=all[posleft+1]\n",
        "while True:\n",
        "  if(leftel!=all[0]) or (rightel!=all[len(all)-1]):\n",
        "    print(prev)\n",
        "    if(leftel!=all[0]):\n",
        "      lefdis=prev-leftel\n",
        "    else:\n",
        "      lefdis=-99999999999999 #the very high numbers in else make sure that the later if conditions don't go off when the only elements left are the first and last one\n",
        "    if(rightel!=all[len(all)-1]):\n",
        "      rightdis=rightel-prev\n",
        "    else:\n",
        "      rightdis=9999999999999\n",
        "    if lefdis>=rightdis:\n",
        "      if rightel!=all[len(all)-1]: #the ifs change the elements on the left and right depending on the distances\n",
        "        seektime = rightdis\n",
        "        posright+=1\n",
        "        prev=rightel\n",
        "        rightel=all[posright]\n",
        "    if lefdis<=rightdis:\n",
        "      if (leftel!=all[0]):\n",
        "        seektime = lefdis\n",
        "        posleft-=1\n",
        "        prev=leftel\n",
        "        leftel=all[posleft]\n",
        "    totaltimeSSTF+=seektime\n",
        "  else:\n",
        "    break\n",
        "print(prev)\n",
        "print(f\"Total time= {totaltimeSSTF}\")"
      ]
    },
    {
      "cell_type": "markdown",
      "metadata": {
        "id": "8hhJDvFkOXd3"
      },
      "source": [
        "SCAN (Elevator) - this algorithm starts at the head and depending on the chosen direction it moves from the head to the left or right up until reaching the end of the disk, while seeking out the part of the sequence on that side, and then changes direction. With head at 8, direction to the left and the sequence {5, 6, 9} they will be read in the order {6, 5, 9}. Its execution time would be equal to: (8-6)+(6-5)+(5-0)+(9-0) = 17."
      ]
    },
    {
      "cell_type": "code",
      "execution_count": null,
      "metadata": {
        "colab": {
          "base_uri": "https://localhost:8080/"
        },
        "id": "RUqf6teAOXzR",
        "outputId": "85865ff3-ea99-41a1-d413-efe40994fb17"
      },
      "outputs": [],
      "source": [
        "items=copy.deepcopy(sequences)\n",
        "items.sort()\n",
        "totaltimeSCAN=0\n",
        "i=inhead\n",
        "stamp=inhead\n",
        "last = items[-1]\n",
        "#for direction to the left:\n",
        "while(i>=0):\n",
        "  if(i in items) or i==0: #the while moves the diskhead by one tick and if it comes across a sequence it removes it from the array\n",
        "    print(i)\n",
        "    if(i in items):\n",
        "      items.remove(i)\n",
        "    totaltimeSCAN+=(stamp-i)\n",
        "    stamp=i\n",
        "  i-=1\n",
        "stamp=0\n",
        "while(i<=last):\n",
        "  if(i in items):  #this is the same, but after the diskhead reaches the end of the disk\n",
        "    print(i)\n",
        "    items.remove(i)\n",
        "    totaltimeSCAN+=(i-stamp)\n",
        "    stamp=i\n",
        "  i+=1\n",
        "print(f\"Total time= {totaltimeSCAN}\")"
      ]
    },
    {
      "cell_type": "markdown",
      "metadata": {
        "id": "KEANvxyJObJT"
      },
      "source": [
        "C-SCAN (Circular Scan) - works the same way as regular SCAN, but upon reaching the final element of the sequence at one side, it automatically moves to the end of the disk opposite to its direction. So for the sequence {5, 6, 9}, direction to the left and head at 8, it would read the sequence in order {6, 5, 9} as well, but the execution time would depend on the disk size. For it equal to 10 it would be for example: (8-6)+(6-5)+(5-0)+(10-0)+(10-9)=19. As my implementation doesn't rely on arrival time, its total time will always be similair to the total disk size * 2.\n"
      ]
    },
    {
      "cell_type": "code",
      "execution_count": null,
      "metadata": {
        "colab": {
          "base_uri": "https://localhost:8080/"
        },
        "id": "yatxvPm5OYhj",
        "outputId": "384f2d75-07ab-4eb0-9ec9-8e1e1ecff24e"
      },
      "outputs": [],
      "source": [
        "items=copy.deepcopy(sequences)\n",
        "items.sort()\n",
        "totaltimeCSCAN=0\n",
        "i=inhead\n",
        "stamp=inhead\n",
        "pos=-1\n",
        "for j in all:\n",
        "  if j<inhead:\n",
        "    pos+=1\n",
        "last = items[pos+1]\n",
        "while(i>=0):\n",
        "  if(i in items) or i==0:\n",
        "    print(i)\n",
        "    if(i in items):\n",
        "      items.remove(i)\n",
        "    totaltimeCSCAN+=(stamp-i)\n",
        "    stamp=i\n",
        "  i-=1\n",
        "stamp=disksize\n",
        "i=disksize\n",
        "totaltimeCSCAN+=disksize #head of the disk moves to its end\n",
        "while(i>=last):\n",
        "  if(i in items):\n",
        "    print(i)\n",
        "    items.remove(i)\n",
        "    totaltimeCSCAN+=(stamp-i)\n",
        "    stamp=i\n",
        "  i-=1\n",
        "print(f\"Total time= {totaltimeCSCAN}\")"
      ]
    },
    {
      "cell_type": "markdown",
      "metadata": {
        "id": "gdXSW51wOYE1"
      },
      "source": [
        "EDF (Earliest Deadline First) - this one works pretty much like FCFS, but instead of the position it considers the deadline of the process. Due to this, it's usually takes the longest out of all the processes, as it cares more about the deadline and not efficiency."
      ]
    },
    {
      "cell_type": "code",
      "execution_count": null,
      "metadata": {
        "colab": {
          "base_uri": "https://localhost:8080/"
        },
        "id": "qYHI2PTrOaht",
        "outputId": "8b2b7dd0-c465-4546-affa-2c7f9292fea6"
      },
      "outputs": [],
      "source": [
        "ev=[]\n",
        "prev=9999999999999999999\n",
        "totaltimeEDF=0\n",
        "counter=0\n",
        "for i in sequences:\n",
        "  ev.append([i, random.randint(1, 4*disksize)]) #(sequence, dedaline)\n",
        "  if(ev[counter][1]<prev):\n",
        "    prev=ev[counter][1] #this line setermines the first element\n",
        "  counter+=1\n",
        "ev.sort(key=lambda x: x[1]) #the sequences are sorted based on their deadline...\n",
        "print(ev)\n",
        "for i in range (0, len(ev)-1): #...and are conducted according to it\n",
        "  if ev[i][0]<prev: #this if checks whether the next element is to the right or to the left of the head and calculates its seektime accordingly\n",
        "    seektime = prev-ev[i][0]\n",
        "  else:\n",
        "    seektime = ev[i][0]-prev\n",
        "  totaltimeEDF=totaltimeEDF+seektime\n",
        "  prev=i\n",
        "  print(ev[i][0])\n",
        "print(f\"Total time= {totaltimeEDF}\")"
      ]
    },
    {
      "cell_type": "markdown",
      "metadata": {
        "id": "JqYu6561OY-2"
      },
      "source": [
        "FD-SCAN (Feasible Deadline Scan) - this one on the other hand is like SCAN, but using deadlines of the processes instead of the direction. While travelling to the point with the lowest deadline it also starts up all of the processes it encounters on its way. Additionally if the deadline of the process cannot be met, it is not taken into consideration."
      ]
    },
    {
      "cell_type": "code",
      "execution_count": null,
      "metadata": {
        "colab": {
          "base_uri": "https://localhost:8080/"
        },
        "id": "bdPN3Io3OJV4",
        "outputId": "d38bc91e-a141-4f8a-a9d2-db6c127da963"
      },
      "outputs": [],
      "source": [
        "seq=copy.deepcopy(sequences)\n",
        "bydeadline=copy.deepcopy(ev)\n",
        "bydeadlineco=copy.deepcopy(ev)\n",
        "bysequence=copy.deepcopy(sequences)\n",
        "print(bydeadline)\n",
        "print(bydeadlineco[0][0])\n",
        "totaltimeFDSCAN=0\n",
        "j=0\n",
        "stamp=inhead\n",
        "while(len(seq)!=0):\n",
        "  while(j<len(bydeadlineco)-1):\n",
        "    i=bydeadlineco[j][0]\n",
        "    if(stamp-i>0 and bydeadlineco[j][1]-(stamp-i-totaltimeFDSCAN)>0): #the ifs take the process which can be finished before its deadline\n",
        "      dir=\"left\"                                                                                  #and check its placement relative to the head\n",
        "      break\n",
        "    if(i-stamp>0 and bydeadlineco[j][1]-(i-stamp-totaltimeFDSCAN)>0):\n",
        "      dir=\"right\"\n",
        "      break\n",
        "    j+=1\n",
        "  print(stamp,dir, i)\n",
        "  if(stamp==i): #this condition goes off when all the remaining process are past the deadline\n",
        "    break\n",
        "  t=stamp\n",
        "  if(dir==\"left\"):\n",
        "    while(t>=i): #this is similair to scan, but it's done for both directions\n",
        "      if(t in seq) or t==0:\n",
        "        totaltimeFDSCAN+=(stamp-t)\n",
        "        stamp=t\n",
        "        print(t)\n",
        "        seq.remove(t)\n",
        "      t-=1\n",
        "  else:\n",
        "    while(t<=i):\n",
        "      if(t in seq) or t==0:\n",
        "        totaltimeFDSCAN+=(t-stamp)\n",
        "        stamp=t\n",
        "        print(t)\n",
        "        seq.remove(t)\n",
        "      t+=1\n",
        "  bydeadlineco=[]\n",
        "  for d in seq: #the for appends the array with processes that are not finished yet\n",
        "    f=-1\n",
        "    while f<len(seq)-1:\n",
        "      f+=1\n",
        "      if (bydeadline[f][0]==d):\n",
        "        bydeadlineco.append([bydeadline[f][0], bydeadline[f][1]])\n",
        "        break\n",
        "  if(bydeadlineco==[]): #if the array is empty it means all the prcesses were done\n",
        "    break\n",
        "  bydeadlineco.sort(key=lambda x: x[1])\n",
        "print(f\"Total time= {totaltimeFDSCAN}\")"
      ]
    },
    {
      "cell_type": "code",
      "execution_count": null,
      "metadata": {
        "colab": {
          "base_uri": "https://localhost:8080/"
        },
        "id": "rgISieED3zaj",
        "outputId": "32958145-2ebb-4c68-b2c4-3a41cd8a6456"
      },
      "outputs": [
        {
          "name": "stdout",
          "output_type": "stream",
          "text": [
            "Total time of FCFS = 65439\n",
            "Total time of SSTF = 3235\n",
            "Total time of SCAN = 2588\n",
            "Total time C-SCAN = 3998\n",
            "Total time of EDF= 89455\n",
            "Total time of FD-SCAN = 2579\n"
          ]
        }
      ],
      "source": [
        "print(f\"Total time of FCFS = {totaltimeFCFS}\")\n",
        "print(f\"Total time of SSTF = {totaltimeSSTF}\")\n",
        "print(f\"Total time of SCAN = {totaltimeSCAN}\")\n",
        "print(f\"Total time C-SCAN = {totaltimeCSCAN}\")\n",
        "print(f\"Total time of EDF= {totaltimeEDF}\")\n",
        "print(f\"Total time of FD-SCAN = {totaltimeFDSCAN}\")"
      ]
    },
    {
      "cell_type": "markdown",
      "metadata": {
        "id": "2ViVxdF_4k4H"
      },
      "source": [
        "Most of the time the simulations show that FD-SCAN is the fastest one, and by a lot. Its results would definitely be worse if it went through all the processes even after the deadlines expired. As for the longest one that's usually EDF, which goes through the processes by their deadlines, which similarly to FCFS isn't very efficient. SCAN, C-SCAN and SSTF are usually similar, but the case would be different if I added arrival time."
      ]
    }
  ],
  "metadata": {
    "colab": {
      "provenance": []
    },
    "kernelspec": {
      "display_name": "Python 3",
      "name": "python3"
    },
    "language_info": {
      "codemirror_mode": {
        "name": "ipython",
        "version": 3
      },
      "file_extension": ".py",
      "mimetype": "text/x-python",
      "name": "python",
      "nbconvert_exporter": "python",
      "pygments_lexer": "ipython3",
      "version": "3.11.9"
    }
  },
  "nbformat": 4,
  "nbformat_minor": 0
}
