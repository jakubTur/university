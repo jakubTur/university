{
  "cells": [
    {
      "cell_type": "markdown",
      "metadata": {
        "id": "9qp5Pl5sWtPz"
      },
      "source": [
        "The algorithms will use this list of processes for visualization of the algorithms work"
      ]
    },
    {
      "cell_type": "code",
      "execution_count": 8,
      "metadata": {
        "id": "qi-YR1WUWrtD"
      },
      "outputs": [],
      "source": [
        "allprocesses = [] # process_id, arrival_time, burst_time (time in minutes)"
      ]
    },
    {
      "cell_type": "code",
      "execution_count": null,
      "metadata": {
        "colab": {
          "base_uri": "https://localhost:8080/"
        },
        "id": "3uGj2kWSdWGV",
        "outputId": "7770e810-0d51-41b4-cc3d-3a3a0cd59759"
      },
      "outputs": [],
      "source": [
        "import random\n",
        "i = 1\n",
        "while(i < 100):\n",
        "  allprocesses.append([i, random.randint(1, 1000), random.randint(0, 60)])\n",
        "  i = i + 1\n",
        "print(allprocesses)"
      ]
    },
    {
      "cell_type": "markdown",
      "metadata": {
        "id": "9wwtFH9zWKBy"
      },
      "source": [
        "#First Come First Served\n",
        "This algorithm conducts the processes in a first come first served manner. If a process arrives when another one is taking place, it is added to a queque and begins once the other on is finished. If yet another process arrives it arrives at the end of the queque.\n",
        "\n",
        "The algorithm below sorts the list of all process according to their arrival time and then calculates their turnaround and waiting times, while also overriding the total waiting and turnaround times using the for loop, which allows to calculate the average waiting and turnaround times for each process.\n"
      ]
    },
    {
      "cell_type": "code",
      "execution_count": null,
      "metadata": {
        "colab": {
          "base_uri": "https://localhost:8080/"
        },
        "id": "Fs9x9WypWmWb",
        "outputId": "f1fe55de-83ea-40bd-ca90-8d8a593f4b89"
      },
      "outputs": [],
      "source": [
        "\n",
        "allprocesses.sort(key=lambda x: x[1])\n",
        "total_waiting_time = 0\n",
        "total_turnaround_time = 0\n",
        "time = 0\n",
        "overtime = 0\n",
        "print(\"Process ID\\tArrival Time\\tBurst Time\\tWaiting Time\\tTurnaround Time\")\n",
        "for process_id, arrival_time, burst_time in allprocesses:\n",
        "    overtime = \n",
        "    waiting_time = max(0, time - arrival_time)\n",
        "    turnaround_time = waiting_time + burst_time\n",
        "    total_waiting_time += waiting_time\n",
        "    total_turnaround_time += turnaround_time\n",
        "    time += burst_time\n",
        "    print(f\"{process_id}\\t\\t{arrival_time}\\t\\t{burst_time}\\t\\t{waiting_time}\\t\\t{turnaround_time}\")\n",
        "avg_waiting_time = total_waiting_time / len(allprocesses)\n",
        "avg_turnaround_time = total_turnaround_time / len(allprocesses)\n",
        "print(\"\\nAverage Waiting Time:\", avg_waiting_time)\n",
        "print(\"\\nAverage Turnaround Time:\", avg_turnaround_time)\n"
      ]
    },
    {
      "cell_type": "markdown",
      "metadata": {
        "id": "_HNx3JcnXjo7"
      },
      "source": [
        "#Shortest Job First\n",
        "This algorithm sorts the processes not by their arrival time, but rather their burst time. The queque works the same way it does in First Come First Served, but the processes are added depending on their burst time. So e.g. if there's a process which has a burst time of 5 seconds, and one of 3 seconds is added to the queque, it will be conducted before the one with 5 seconds. It's the second scheduling algorithm with the shortest average waiting time for a process to finish.\n",
        "\n",
        "Unfortunately I wasn't able to get it working that way so the code is just a slightly modified version of the one for fcfs, except it's sorted by burst time and the data for waiting time and turnaround time is actually saved in form of variables, not just printed out. For that it uses an appended copy of the original array, which now also stores the waiting time and turnaround time for each process."
      ]
    },
    {
      "cell_type": "code",
      "execution_count": null,
      "metadata": {
        "colab": {
          "base_uri": "https://localhost:8080/"
        },
        "id": "nJS9_HCoXkBI",
        "outputId": "8a0086c2-550e-4514-c313-2033c727498a"
      },
      "outputs": [],
      "source": [
        "    import copy\n",
        "    n = len(allprocesses)\n",
        "    total_waiting_time = 0\n",
        "    total_turnaround_time = 0\n",
        "    time = 0\n",
        "    allprocesses.sort(key=lambda y: y[2])\n",
        "    processes = copy.deepcopy(allprocesses)\n",
        "    for i in range (0, n):\n",
        "      processes[i].append(0)\n",
        "      processes[i].append(0) # (0-process_id, 1-arrival_time, 2-burst_time, 3-waiting time, 4-turnaround time)\n",
        "    processes[0][3] = 0\n",
        "    for i in range(1, n):\n",
        "        processes[i][3] = 0\n",
        "        for j in range(i):\n",
        "            processes[i][3] += processes[j][2]\n",
        "        total_waiting_time += processes[i][3]\n",
        "    avg_waiting_time = total_waiting_time / n\n",
        "    total = 0\n",
        "    print(\"Process ID     Burst time     Waiting time     Turnaround Time\")\n",
        "    for i in range(n):\n",
        "        processes[i][4] = processes[i][2] + processes[i][3]\n",
        "        total += processes[i][4]\n",
        "        print(f\"{processes[i][0]}\\t\\t{processes[i][2]}\\t\\t{processes[i][3]}\\t\\t{processes[i][4]}\")\n",
        "    avg_turnaround_time = total / n\n",
        "    print(f\"Average Waiting Time= {avg_waiting_time}\")\n",
        "    print(f\"Average Turnaround Time= {avg_turnaround_time}\")"
      ]
    },
    {
      "cell_type": "markdown",
      "metadata": {
        "id": "XUMmsLMMXBPE"
      },
      "source": [
        "#Preemptive Shortest Job First\n",
        "It's pretty much the same as the previous one, except when a new process arrives and its burst time is shorter than the one of the process that is curently being conducted, that process is stopped and the one that came is started instead. The suspended process moves to the queque, and its remaining burst time is taken into account. In terms of the average total waiting and turnaround times it is slightly shorter.\n",
        "\n",
        "The implementation below relies on a while loop, which works as long as there are unfinished processes. The for within the loop takes the remaining time for each process it goes through takes it as the minimum value of a duration of a process. The number of the process is also stored and used to later calculate the waiting time and check if the process was already done.\n"
      ]
    },
    {
      "cell_type": "code",
      "execution_count": null,
      "metadata": {
        "colab": {
          "base_uri": "https://localhost:8080/"
        },
        "id": "7FCmTIH5gVE0",
        "outputId": "e9fd0cf8-f8e2-4fc4-ea7d-fe296a1336d9"
      },
      "outputs": [],
      "source": [
        "import copy\n",
        "n = len(allprocesses)\n",
        "total_waiting_time = 0\n",
        "total_turnaround_time = 0\n",
        "all = copy.deepcopy(allprocesses)\n",
        "for i in range (0, n):\n",
        "    all[i].append(0)\n",
        "    all[i].append(0)\n",
        "    all[i].append(all[i][2]) # (process_id, arrival_time, burst_time, waiting time, turnaround time, remaining time)\n",
        "complete = 0\n",
        "time = 0\n",
        "min = 111\n",
        "short = 0\n",
        "check = False\n",
        "while (complete != n):\n",
        "      for j in range(n):\n",
        "        if ((all[j][1] <= time) and (all[j][5] < min) and (all[j][5] > 0)):\n",
        "            min = all[j][5]\n",
        "            short = j\n",
        "            check = True\n",
        "        if (check == False):\n",
        "            time += 1\n",
        "            continue\n",
        "        all[short][5] -= 1\n",
        "        min = all[short][5]\n",
        "        if (min == 0):\n",
        "            min = 111\n",
        "        if (all[short][5] == 0):\n",
        "            complete += 1\n",
        "            check = False\n",
        "            fint = time + 1\n",
        "            all[short][3] = (fint - all[short][2] -\n",
        "                                all[short][1])\n",
        "            if (all[short][3] < 0):\n",
        "                all[short][3] = 0\n",
        "        time += 1\n",
        "print(\"Process ID     Arrival time     Burst time     Waiting time     Turnaround Time\")\n",
        "for i in range(n):\n",
        "    all[i][4] = (all[i][2] + all[i][3])\n",
        "    total_waiting_time+=all[i][3]\n",
        "    total_turnaround_time+= all[i][4]\n",
        "    print(f\"{all[i][0]}\\t\\t{all[i][1]}\\t\\t{all[i][2]}\\t\\t{all[i][3]}\\t\\t{all[i][4]}\")\n",
        "print(f\"Average Waiting Time= {total_waiting_time/n}\")\n",
        "print(f\"Average Turnaround Time= {total_turnaround_time/n}\")"
      ]
    },
    {
      "cell_type": "markdown",
      "metadata": {
        "id": "ahKBeGhWgVlZ"
      },
      "source": [
        "#Round Robin\n",
        "Round Robin scheduling algorithm processes each process for a given, constant amount of time. If the process is't finished by then, it picks up another process and processes it in the same manner. The queue is determined by the arrival time of the processes - it works the same as in first come first served.\n",
        "\n",
        "The processes are appended in a way that one of the elements of the array is a copy of the burst time and another is a Boolean on whether a process is finished, so that it can be taken out of consideration when it is. It also stops any progress towards a process once the period during which it was done reaches the timestamp."
      ]
    },
    {
      "cell_type": "code",
      "execution_count": null,
      "metadata": {
        "colab": {
          "base_uri": "https://localhost:8080/",
          "height": 300
        },
        "id": "AfbNXIyskN_f",
        "outputId": "e10dc1dc-cfaf-4da9-9a51-0efd1ebe2534"
      },
      "outputs": [],
      "source": [
        "import copy\n",
        "allprocesses.sort(key=lambda x: x[1])\n",
        "time, maxProccessIndex = 0, 0\n",
        "avgerage_waiting_time, average_turnaround_time = 0, 0\n",
        "total_turnaround_time, total_waiting_time=0,0\n",
        "print(\"\\nWhat time stamps do you want? \")\n",
        "timestamp = int(input())\n",
        "n = len(allprocesses)\n",
        "queue = [0]*n\n",
        "alles = copy.deepcopy(allprocesses)\n",
        "# (0-process_id, 1-arrival_time, 2-burst_time, 3-waiting time, 4-turnaround time, 5-remaining time, 6-temp burst, 7-complete)\n",
        "for i in range (n):\n",
        "      alles[i].append(0)\n",
        "      alles[i].append(0)\n",
        "      alles[i].append(0)\n",
        "      alles[i].append(alles[i][2])\n",
        "      alles[i].append(False)\n",
        "      queue[i] = 0\n",
        "queue[0] = 1\n",
        "while(True):\n",
        "    cond = True\n",
        "    for i in range(n):\n",
        "        if(alles[i][6] != 0):\n",
        "            cond = False\n",
        "            break\n",
        "    if(cond):\n",
        "        break\n",
        "    for i in range(n):\n",
        "      if(queue[i] != 0):\n",
        "        break\n",
        "      else:\n",
        "        period = 0\n",
        "        while((period < timestamp) and (alles[queue[0]-1][6] > 0)):\n",
        "            alles[queue[0]-1][6] -= 1\n",
        "            time += 1\n",
        "            period += 1\n",
        "            if(time <= alles[n-1][1]):\n",
        "              new = False\n",
        "              for j in range(maxProccessIndex+1, n):\n",
        "                if(alles[j][1] <= time):\n",
        "                  if(maxProccessIndex < j):\n",
        "                    maxProccessIndex = j\n",
        "                    new = True\n",
        "        if(new):\n",
        "            zeroIndex = -1\n",
        "            for i in range(n):\n",
        "              if(queue[i] == 0):\n",
        "                zeroIndex = i\n",
        "                break\n",
        "            if(zeroIndex != -1):\n",
        "              queue[zeroIndex] = maxProccessIndex + 1\n",
        "        if((alles[queue[0]-1][6] == 0) and (alles[queue[0]-1][7] == False)):\n",
        "            alles[queue[0]-1][4] = time\n",
        "            alles[queue[0]-1][7] = True\n",
        "        idle = True\n",
        "        if(queue[n-1] == 0):\n",
        "            for k in range(n):\n",
        "                if(queue[k] != 0):\n",
        "                    if(alles[queue[k]-1][7] == False):\n",
        "                        idle = False\n",
        "        else:\n",
        "            idle = False\n",
        "        if(idle):\n",
        "            time += 1\n",
        "            if(time <= alles[n-1][1]):\n",
        "              newArrival = False\n",
        "              for j in range(maxProccessIndex+1, n):\n",
        "                if(alles[j][1] <= time):\n",
        "                  if(maxProccessIndex < j):\n",
        "                    maxProccessIndex = j\n",
        "                    newArrival = True\n",
        "        for i in range(n-1):\n",
        "          if(queue[i+1] != 0):\n",
        "            queue[i], queue[i+1] = queue[i+1], queue[i]\n",
        "for i in range(n):\n",
        "    alles[i][4] = alles[i][4] - alles[i][1]\n",
        "    alles[i][3] = alles[i][4] - alles[i][2]\n",
        "print(\"Process ID     Burst time     Waiting time     Turnaround Time\")\n",
        "for i in range(n):\n",
        "        alles[i][4] = (alles[i][2] + alles[i][3])\n",
        "        total_waiting_time+=alles[i][3]\n",
        "        total_turnaround_time+= alles[i][4]\n",
        "        print(f\"{alles[i][0]}\\t\\t{alles[i][2]}\\t\\t{alles[i][3]}\\t\\t{alles[i][4]}\")\n",
        "print(f\"Average Waiting Time= {total_waiting_time/n}\")\n",
        "print(f\"Average Turnaround Time= {total_turnaround_time/n}\")"
      ]
    }
  ],
  "metadata": {
    "colab": {
      "provenance": []
    },
    "kernelspec": {
      "display_name": "Python 3",
      "name": "python3"
    },
    "language_info": {
      "codemirror_mode": {
        "name": "ipython",
        "version": 3
      },
      "file_extension": ".py",
      "mimetype": "text/x-python",
      "name": "python",
      "nbconvert_exporter": "python",
      "pygments_lexer": "ipython3",
      "version": "3.11.9"
    }
  },
  "nbformat": 4,
  "nbformat_minor": 0
}
